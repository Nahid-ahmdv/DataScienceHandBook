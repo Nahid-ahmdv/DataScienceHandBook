{
 "cells": [
  {
   "cell_type": "code",
   "execution_count": 1,
   "id": "861efa06-c29e-4dde-9673-02f6fc278045",
   "metadata": {},
   "outputs": [
    {
     "name": "stdout",
     "output_type": "stream",
     "text": [
      "Help on built-in function len in module builtins:\n",
      "\n",
      "len(obj, /)\n",
      "    Return the number of items in a container.\n",
      "\n"
     ]
    }
   ],
   "source": [
    "help(len)"
   ]
  },
  {
   "cell_type": "code",
   "execution_count": 4,
   "id": "cb5c6af0-c590-471a-8c62-367607c58b80",
   "metadata": {},
   "outputs": [
    {
     "data": {
      "text/plain": [
       "\u001b[1;31mSignature:\u001b[0m \u001b[0mlen\u001b[0m\u001b[1;33m(\u001b[0m\u001b[0mobj\u001b[0m\u001b[1;33m,\u001b[0m \u001b[1;33m/\u001b[0m\u001b[1;33m)\u001b[0m\u001b[1;33m\u001b[0m\u001b[1;33m\u001b[0m\u001b[0m\n",
       "\u001b[1;31mDocstring:\u001b[0m Return the number of items in a container.\n",
       "\u001b[1;31mType:\u001b[0m      builtin_function_or_method"
      ]
     },
     "metadata": {},
     "output_type": "display_data"
    }
   ],
   "source": [
    "len?"
   ]
  },
  {
   "cell_type": "code",
   "execution_count": 5,
   "id": "f4b1f7f0-db4c-4386-a677-373bc6bcc0ab",
   "metadata": {},
   "outputs": [
    {
     "data": {
      "text/plain": [
       "\u001b[1;31mSignature:\u001b[0m \u001b[0mL\u001b[0m\u001b[1;33m.\u001b[0m\u001b[0minsert\u001b[0m\u001b[1;33m(\u001b[0m\u001b[0mindex\u001b[0m\u001b[1;33m,\u001b[0m \u001b[0mobject\u001b[0m\u001b[1;33m,\u001b[0m \u001b[1;33m/\u001b[0m\u001b[1;33m)\u001b[0m\u001b[1;33m\u001b[0m\u001b[1;33m\u001b[0m\u001b[0m\n",
       "\u001b[1;31mDocstring:\u001b[0m Insert object before index.\n",
       "\u001b[1;31mType:\u001b[0m      builtin_function_or_method"
      ]
     },
     "metadata": {},
     "output_type": "display_data"
    }
   ],
   "source": [
    "L = [1, 2, 3]\n",
    "L.insert?"
   ]
  },
  {
   "cell_type": "code",
   "execution_count": 6,
   "id": "53ed650e-0cd9-4a75-9f28-9d554e814682",
   "metadata": {},
   "outputs": [
    {
     "data": {
      "text/plain": [
       "\u001b[1;31mType:\u001b[0m        list\n",
       "\u001b[1;31mString form:\u001b[0m [1, 2, 3]\n",
       "\u001b[1;31mLength:\u001b[0m      3\n",
       "\u001b[1;31mDocstring:\u001b[0m  \n",
       "Built-in mutable sequence.\n",
       "\n",
       "If no argument is given, the constructor creates a new empty list.\n",
       "The argument must be an iterable if specified."
      ]
     },
     "metadata": {},
     "output_type": "display_data"
    }
   ],
   "source": [
    "L?"
   ]
  },
  {
   "cell_type": "code",
   "execution_count": 7,
   "id": "621d3a14-3f6f-4176-8303-05aac8a14053",
   "metadata": {},
   "outputs": [],
   "source": [
    "def square(a):\n",
    "    \"\"\"Return the square of a.\"\"\"\n",
    "    return a ** 2"
   ]
  },
  {
   "cell_type": "code",
   "execution_count": 8,
   "id": "51252a78-12c3-45cf-bd44-1151a57627d5",
   "metadata": {},
   "outputs": [
    {
     "data": {
      "text/plain": [
       "\u001b[1;31mSignature:\u001b[0m \u001b[0msquare\u001b[0m\u001b[1;33m(\u001b[0m\u001b[0ma\u001b[0m\u001b[1;33m)\u001b[0m\u001b[1;33m\u001b[0m\u001b[1;33m\u001b[0m\u001b[0m\n",
       "\u001b[1;31mDocstring:\u001b[0m Return the square of a.\n",
       "\u001b[1;31mFile:\u001b[0m      c:\\users\\surface laptop\\appdata\\local\\temp\\ipykernel_5456\\1116730004.py\n",
       "\u001b[1;31mType:\u001b[0m      function"
      ]
     },
     "metadata": {},
     "output_type": "display_data"
    }
   ],
   "source": [
    "square?"
   ]
  },
  {
   "cell_type": "markdown",
   "id": "c15cd9f6-1eca-4c1d-8005-dffb011e781e",
   "metadata": {},
   "source": [
    "To see a\n",
    "list of all available attributes of an object, you can type the name of the object fol‐\n",
    "lowed by a period (.) character and the Tab key:"
   ]
  },
  {
   "cell_type": "code",
   "execution_count": 14,
   "id": "c6226d4d-a822-4f4f-9c21-50ca614c50e5",
   "metadata": {},
   "outputs": [
    {
     "data": {
      "text/plain": [
       "\u001b[1;31mSignature:\u001b[0m \u001b[0mL\u001b[0m\u001b[1;33m.\u001b[0m\u001b[0mcount\u001b[0m\u001b[1;33m(\u001b[0m\u001b[0mvalue\u001b[0m\u001b[1;33m,\u001b[0m \u001b[1;33m/\u001b[0m\u001b[1;33m)\u001b[0m\u001b[1;33m\u001b[0m\u001b[1;33m\u001b[0m\u001b[0m\n",
       "\u001b[1;31mDocstring:\u001b[0m Return number of occurrences of value.\n",
       "\u001b[1;31mType:\u001b[0m      builtin_function_or_method"
      ]
     },
     "metadata": {},
     "output_type": "display_data"
    }
   ],
   "source": [
    "L.count?"
   ]
  },
  {
   "cell_type": "code",
   "execution_count": 22,
   "id": "117b0e4c-f6c0-4844-9ff1-ec28bbc9d113",
   "metadata": {},
   "outputs": [
    {
     "data": {
      "text/plain": [
       "Ellipsis\n",
       "abs\n",
       "bytes\n",
       "credits\n",
       "globals\n",
       "issubclass\n",
       "locals\n",
       "vars"
      ]
     },
     "metadata": {},
     "output_type": "display_data"
    }
   ],
   "source": [
    " *s?"
   ]
  },
  {
   "cell_type": "code",
   "execution_count": null,
   "id": "c779465c-e4be-4b65-9c5c-6bb734b5a9a2",
   "metadata": {},
   "outputs": [],
   "source": []
  }
 ],
 "metadata": {
  "kernelspec": {
   "display_name": "Python 3 (ipykernel)",
   "language": "python",
   "name": "python3"
  },
  "language_info": {
   "codemirror_mode": {
    "name": "ipython",
    "version": 3
   },
   "file_extension": ".py",
   "mimetype": "text/x-python",
   "name": "python",
   "nbconvert_exporter": "python",
   "pygments_lexer": "ipython3",
   "version": "3.12.8"
  }
 },
 "nbformat": 4,
 "nbformat_minor": 5
}

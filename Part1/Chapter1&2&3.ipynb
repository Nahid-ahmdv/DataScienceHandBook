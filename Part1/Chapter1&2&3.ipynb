{
 "cells": [
  {
   "cell_type": "code",
   "execution_count": 1,
   "id": "5277a1a2-707c-4868-90a3-1700683a7410",
   "metadata": {},
   "outputs": [
    {
     "name": "stdout",
     "output_type": "stream",
     "text": [
      "2\n"
     ]
    }
   ],
   "source": [
    "print(2)"
   ]
  },
  {
   "cell_type": "code",
   "execution_count": 2,
   "id": "6b71a944",
   "metadata": {},
   "outputs": [
    {
     "name": "stdout",
     "output_type": "stream",
     "text": [
      "hi\n"
     ]
    }
   ],
   "source": [
    "print(\"hi\")"
   ]
  },
  {
   "cell_type": "code",
   "execution_count": 3,
   "id": "5f57a9ac-1440-4a60-95d9-89442d88441e",
   "metadata": {},
   "outputs": [
    {
     "name": "stdout",
     "output_type": "stream",
     "text": [
      "\n"
     ]
    }
   ],
   "source": [
    "print(_)"
   ]
  },
  {
   "cell_type": "code",
   "execution_count": 4,
   "id": "cbf3c448-9761-4741-96f7-11ccf236c502",
   "metadata": {},
   "outputs": [
    {
     "data": {
      "text/plain": [
       "13"
      ]
     },
     "execution_count": 4,
     "metadata": {},
     "output_type": "execute_result"
    }
   ],
   "source": [
    "2**2 + 3**2"
   ]
  },
  {
   "cell_type": "code",
   "execution_count": 5,
   "id": "a1213a51-77dc-445e-88f5-b22d7b11eabb",
   "metadata": {},
   "outputs": [
    {
     "name": "stdout",
     "output_type": "stream",
     "text": [
      "13\n"
     ]
    }
   ],
   "source": [
    "print(_)"
   ]
  },
  {
   "cell_type": "code",
   "execution_count": 6,
   "id": "2fd89f56-ab38-4121-926a-8e64b240e248",
   "metadata": {},
   "outputs": [
    {
     "name": "stdout",
     "output_type": "stream",
     "text": [
      "\n"
     ]
    }
   ],
   "source": [
    "print(__)"
   ]
  },
  {
   "cell_type": "code",
   "execution_count": 7,
   "id": "a494d674-aa0e-44ae-8041-124bc67e1700",
   "metadata": {},
   "outputs": [
    {
     "data": {
      "text/plain": [
       "64"
      ]
     },
     "execution_count": 7,
     "metadata": {},
     "output_type": "execute_result"
    }
   ],
   "source": [
    "2**6"
   ]
  },
  {
   "cell_type": "code",
   "execution_count": 8,
   "id": "9e4e29d1-6930-4f26-98ca-1e3d8ea74cfe",
   "metadata": {},
   "outputs": [
    {
     "data": {
      "text/plain": [
       "48"
      ]
     },
     "execution_count": 8,
     "metadata": {},
     "output_type": "execute_result"
    }
   ],
   "source": [
    "8*6"
   ]
  },
  {
   "cell_type": "code",
   "execution_count": 9,
   "id": "2ae45ec0-9301-4a5e-8643-583892a9be60",
   "metadata": {},
   "outputs": [
    {
     "name": "stdout",
     "output_type": "stream",
     "text": [
      "48\n"
     ]
    }
   ],
   "source": [
    "print(_)"
   ]
  },
  {
   "cell_type": "code",
   "execution_count": 10,
   "id": "d1fb5df9-edf3-458b-a956-22cd2d527fd8",
   "metadata": {},
   "outputs": [
    {
     "name": "stdout",
     "output_type": "stream",
     "text": [
      "64\n"
     ]
    }
   ],
   "source": [
    "print(__)"
   ]
  },
  {
   "cell_type": "code",
   "execution_count": 11,
   "id": "2b930505-3e12-4e72-9c13-2e254c9d517d",
   "metadata": {},
   "outputs": [
    {
     "name": "stdout",
     "output_type": "stream",
     "text": [
      "48\n"
     ]
    }
   ],
   "source": [
    "print(Out[8])"
   ]
  },
  {
   "cell_type": "code",
   "execution_count": 12,
   "id": "952bf6eb-5e09-446d-b62a-101999af1497",
   "metadata": {},
   "outputs": [
    {
     "ename": "KeyError",
     "evalue": "6",
     "output_type": "error",
     "traceback": [
      "\u001b[1;31m---------------------------------------------------------------------------\u001b[0m",
      "\u001b[1;31mKeyError\u001b[0m                                  Traceback (most recent call last)",
      "Cell \u001b[1;32mIn[12], line 1\u001b[0m\n\u001b[1;32m----> 1\u001b[0m \u001b[38;5;28mprint\u001b[39m(Out[\u001b[38;5;241m6\u001b[39m])\n",
      "\u001b[1;31mKeyError\u001b[0m: 6"
     ]
    }
   ],
   "source": [
    "print(Out[6])"
   ]
  },
  {
   "cell_type": "code",
   "execution_count": 13,
   "id": "2355ee2a-4fbb-40a1-8c92-e62ffa86cf62",
   "metadata": {},
   "outputs": [
    {
     "ename": "NameError",
     "evalue": "name '_6' is not defined",
     "output_type": "error",
     "traceback": [
      "\u001b[1;31m---------------------------------------------------------------------------\u001b[0m",
      "\u001b[1;31mNameError\u001b[0m                                 Traceback (most recent call last)",
      "Cell \u001b[1;32mIn[13], line 1\u001b[0m\n\u001b[1;32m----> 1\u001b[0m \u001b[38;5;28mprint\u001b[39m(_6)\n",
      "\u001b[1;31mNameError\u001b[0m: name '_6' is not defined"
     ]
    }
   ],
   "source": [
    "print(_6)"
   ]
  },
  {
   "cell_type": "code",
   "execution_count": 14,
   "id": "05d0eda9-821b-4f24-b1d5-916a5ad3a4b7",
   "metadata": {},
   "outputs": [],
   "source": [
    "import math\n",
    "math.sin(2) + math.cos(2);"
   ]
  },
  {
   "cell_type": "code",
   "execution_count": 15,
   "id": "3fcece55-31d4-4bff-ab44-c1b2264f8d90",
   "metadata": {},
   "outputs": [
    {
     "data": {
      "text/plain": [
       "False"
      ]
     },
     "execution_count": 15,
     "metadata": {},
     "output_type": "execute_result"
    }
   ],
   "source": [
    "17 in Out\n"
   ]
  },
  {
   "cell_type": "code",
   "execution_count": 16,
   "id": "d53c83e5-1dd9-486f-ac18-62b4fa9a23c6",
   "metadata": {},
   "outputs": [
    {
     "name": "stdout",
     "output_type": "stream",
     "text": [
      "   1: print(2)\n",
      "   2: print(\"hi\")\n",
      "   3: print(_)\n"
     ]
    }
   ],
   "source": [
    "%history -n 1-3"
   ]
  },
  {
   "cell_type": "code",
   "execution_count": 17,
   "id": "e6d099ad-e198-4e36-b5f4-cc7d7b88f034",
   "metadata": {},
   "outputs": [
    {
     "name": "stderr",
     "output_type": "stream",
     "text": [
      "UsageError: Missing filename.\n"
     ]
    }
   ],
   "source": [
    "%save \n",
    "import math\n",
    "math.sin(2) + math.cos(2);"
   ]
  },
  {
   "cell_type": "code",
   "execution_count": 18,
   "id": "eb5e6b37-35a7-4b91-a870-084d6c35bab0",
   "metadata": {},
   "outputs": [
    {
     "name": "stdout",
     "output_type": "stream",
     "text": [
      "print(2)\n",
      "print(\"hi\")\n",
      "print(_)\n",
      "2**2 + 3**2\n",
      "print(_)\n",
      "print(__)\n",
      "2**6\n",
      "8*6\n",
      "print(_)\n",
      "print(__)\n",
      "print(Out[8])\n",
      "print(Out[6])\n",
      "print(_6)\n",
      "import math\n",
      "math.sin(2) + math.cos(2);\n",
      "17 in Out\n",
      "%history -n 1-3\n",
      "%save \n",
      "import math\n",
      "math.sin(2) + math.cos(2);\n",
      "%history\n"
     ]
    }
   ],
   "source": [
    "%history"
   ]
  },
  {
   "cell_type": "code",
   "execution_count": 19,
   "id": "590e4421-572d-45e8-8284-7bb0bb204835",
   "metadata": {},
   "outputs": [
    {
     "name": "stdout",
     "output_type": "stream",
     "text": [
      "   1: print(2)\n",
      "   2: print(\"hi\")\n",
      "   3: print(_)\n",
      "   4: 2**2 + 3**2\n",
      "   5: print(_)\n",
      "   6: print(__)\n",
      "   7: 2**6\n",
      "   8: 8*6\n",
      "   9: print(_)\n",
      "  10: print(__)\n",
      "  11: print(Out[8])\n",
      "  12: print(Out[6])\n",
      "  13: print(_6)\n",
      "  14:\n",
      "import math\n",
      "math.sin(2) + math.cos(2);\n",
      "  15: 17 in Out\n",
      "  16: %history -n 1-3\n",
      "  17:\n",
      "%save \n",
      "import math\n",
      "math.sin(2) + math.cos(2);\n",
      "  18: %history\n",
      "  19: %history -n\n"
     ]
    }
   ],
   "source": [
    "%history -n"
   ]
  },
  {
   "cell_type": "code",
   "execution_count": 20,
   "id": "ef819aba-fc9b-4432-9c0f-06c0ef5ad3ee",
   "metadata": {},
   "outputs": [
    {
     "name": "stdin",
     "output_type": "stream",
     "text": [
      "File `my_testfile.py` exists. Overwrite (y/[N])?   n\n"
     ]
    },
    {
     "name": "stdout",
     "output_type": "stream",
     "text": [
      "Operation cancelled.\n"
     ]
    }
   ],
   "source": [
    "%save my_testfile.py 16"
   ]
  },
  {
   "cell_type": "code",
   "execution_count": 21,
   "id": "763ad019-264f-4abb-a2c0-fd5dd83a7e7c",
   "metadata": {},
   "outputs": [
    {
     "name": "stdout",
     "output_type": "stream",
     "text": [
      "=== Executing: ===\n",
      "%history -n 1-3\n",
      "=== Output: ===\n",
      "   1: print(2)\n",
      "   2: print(\"hi\")\n",
      "   3: print(_)\n"
     ]
    }
   ],
   "source": [
    "%rerun 16"
   ]
  },
  {
   "cell_type": "code",
   "execution_count": 22,
   "id": "3bb7d98f-267e-4853-969d-1eae7a6db570",
   "metadata": {},
   "outputs": [
    {
     "name": "stdout",
     "output_type": "stream",
     "text": [
      "# coding: utf-8\n",
      "import math\n",
      "math.sin(2) + math.cos(2)\n"
     ]
    }
   ],
   "source": [
    "!type my_testfile.py"
   ]
  },
  {
   "cell_type": "markdown",
   "id": "c4f71b93-92f3-47a3-b439-00f7d5bb8973",
   "metadata": {},
   "source": [
    "If you want to save all history, you can use 1- to include everything from line 1 onward:"
   ]
  },
  {
   "cell_type": "markdown",
   "id": "71302649-b02d-4cea-a6ae-512b9d81d846",
   "metadata": {},
   "source": [
    "\"\"%save my_script.py 1-\"\"\""
   ]
  },
  {
   "cell_type": "code",
   "execution_count": 23,
   "id": "3b171a1c-13da-403f-9b9d-a6d07e12c6f5",
   "metadata": {},
   "outputs": [],
   "source": [
    "with open(\"my_code.py\", \"w\") as f:\n",
    "    f.write(\"import math\\n\")\n",
    "    f.write(\"math.sin(2) + math.cos(2)\\n\")\n"
   ]
  },
  {
   "cell_type": "code",
   "execution_count": 24,
   "id": "98920e8a-a150-4487-8468-556aecd4ce6e",
   "metadata": {},
   "outputs": [
    {
     "name": "stdout",
     "output_type": "stream",
     "text": [
      "Inside function: x = 10, y = 20\n",
      "Outside function: x = 10\n"
     ]
    }
   ],
   "source": [
    "# Global namespace\n",
    "x = 10  # This is in the global namespace\n",
    "\n",
    "def my_function():\n",
    "    # Local namespace\n",
    "    y = 20  # This exists ONLY in the local namespace\n",
    "    print(f\"Inside function: x = {x}, y = {y}\")\n",
    "\n",
    "my_function()\n",
    "\n",
    "# Back to the global namespace\n",
    "print(f\"Outside function: x = {x}\")\n",
    "# print(y)  # ERROR! y doesn't exist here\n"
   ]
  },
  {
   "cell_type": "markdown",
   "id": "d3a283a6-6942-42ae-ba3d-b2ac39373ebe",
   "metadata": {},
   "source": [
    "\n",
    "<div style=\"height: 20px;\"></div>\n",
    "<hr>\n",
    "<h1>Passing Values to and from the Shell</h1>\n",
    "\n",
    "In IPython, you can execute shell commands, and their output is returned as an instance of `IPython.utils.text.SList`. This special shell return type offers some convenient methods and properties like `grep`, `fields`, and `s`, `n`, `p` to search, filter, and display results. Here are some examples of how to apply these methods and properties:\n"
   ]
  },
  {
   "cell_type": "markdown",
   "id": "751d68eb-7653-42d3-a376-323793d17e81",
   "metadata": {},
   "source": [
    "<h3>1. Using the grep method</h3>\n",
    "\n",
    "The `grep` method allows you to filter the output by searching for specific patterns.\n",
    "\n",
    "Example:"
   ]
  },
  {
   "cell_type": "code",
   "execution_count": 25,
   "id": "9077ac4d-8661-4688-9569-fe1ff6f3b788",
   "metadata": {},
   "outputs": [
    {
     "name": "stdout",
     "output_type": "stream",
     "text": [
      "[' Volume in drive C has no label.', ' Volume Serial Number is 5A2A-16EA', '', ' Directory of C:\\\\PYTHON ELEMENTARY\\\\Python for DS and ML Bootcamp\\\\01-Python-Crash-Course', '', '01/28/2025  04:49 AM    <DIR>          .', '01/28/2025  04:49 AM    <DIR>          ..', '01/28/2025  04:23 AM    <DIR>          .ipynb_checkpoints', '01/27/2025  09:09 PM            34,182 01-Python Crash Course.ipynb', '01/27/2025  07:57 AM             9,856 02-Python Crash Course Exercises.ipynb', '01/27/2025  07:48 AM            10,365 03-Python Crash Course Exercises - Solutions.ipynb', '01/28/2025  04:49 AM            24,436 Chapter1&2&3PythonDSHandbook-Copy1.ipynb', '01/28/2025  04:36 AM            26,760 Chapter1&2&3PythonDSHandbook.ipynb', '01/27/2025  07:43 AM    <DIR>          DataScienceHandBook', '01/27/2025  04:50 PM               127 myscript.py', '01/28/2025  04:50 AM                40 my_code.py', '01/27/2025  10:38 PM                57 my_testfile.py', '08/30/2018  10:24 PM             5,888 Pierian_Data_Logo.png', '08/30/2018  10:24 PM               111 README.md', '              10 File(s)        111,822 bytes', '               4 Dir(s)  44,817,526,784 bytes free']\n"
     ]
    },
    {
     "data": {
      "text/plain": [
       "['01/28/2025  04:23 AM    <DIR>          .ipynb_checkpoints',\n",
       " '01/27/2025  09:09 PM            34,182 01-Python Crash Course.ipynb',\n",
       " '01/27/2025  07:57 AM             9,856 02-Python Crash Course Exercises.ipynb',\n",
       " '01/27/2025  07:48 AM            10,365 03-Python Crash Course Exercises - Solutions.ipynb',\n",
       " '01/28/2025  04:49 AM            24,436 Chapter1&2&3PythonDSHandbook-Copy1.ipynb',\n",
       " '01/28/2025  04:36 AM            26,760 Chapter1&2&3PythonDSHandbook.ipynb']"
      ]
     },
     "execution_count": 25,
     "metadata": {},
     "output_type": "execute_result"
    }
   ],
   "source": [
    "contents = !dir\n",
    "print(contents)\n",
    "contents.grep('.ipynb')  # Searching for files with 'txt' in the name"
   ]
  },
  {
   "cell_type": "code",
   "execution_count": 26,
   "id": "0e2c1837-4788-48cb-9e51-1fa002d7c3be",
   "metadata": {},
   "outputs": [
    {
     "data": {
      "text/plain": [
       "['Volume',\n",
       " 'Volume',\n",
       " 'Directory',\n",
       " 'Directory',\n",
       " 'Directory',\n",
       " 'Directory',\n",
       " 'Directory',\n",
       " 'File']"
      ]
     },
     "execution_count": 26,
     "metadata": {},
     "output_type": "execute_result"
    }
   ],
   "source": [
    "contents = !dir  # Get the directory listing\n",
    "contents.fields(0)  # Select the first field (file permissions, etc.)\n"
   ]
  },
  {
   "cell_type": "code",
   "execution_count": 27,
   "id": "e86ee085-726d-4b58-b672-d34196a3f18b",
   "metadata": {},
   "outputs": [
    {
     "data": {
      "text/plain": [
       "[]"
      ]
     },
     "execution_count": 27,
     "metadata": {},
     "output_type": "execute_result"
    }
   ],
   "source": [
    "contents = !dir  # Get the directory listing\n",
    "contents.p  # Pretty print the content\n"
   ]
  },
  {
   "cell_type": "code",
   "execution_count": 28,
   "id": "d392e18c-ea22-4c9b-9c10-92156cf8772e",
   "metadata": {},
   "outputs": [
    {
     "name": "stdout",
     "output_type": "stream",
     "text": [
      "C:\\PYTHON ELEMENTARY\\Python for DS and ML Bootcamp\n"
     ]
    },
    {
     "name": "stderr",
     "output_type": "stream",
     "text": [
      "C:\\Python\\miniconda\\Lib\\site-packages\\IPython\\core\\magics\\osm.py:417: UserWarning: This is now an optional IPython functionality, setting dhist requires you to install the `pickleshare` library.\n",
      "  self.shell.db['dhist'] = compress_dhist(dhist)[-100:]\n"
     ]
    }
   ],
   "source": [
    "%cd .."
   ]
  },
  {
   "cell_type": "code",
   "execution_count": 29,
   "id": "c2f83ef3-4b38-495f-8a5e-8d7dbe373936",
   "metadata": {},
   "outputs": [
    {
     "name": "stdout",
     "output_type": "stream",
     "text": [
      " Volume in drive C has no label.\n",
      " Volume Serial Number is 5A2A-16EA\n",
      "\n",
      " Directory of C:\\PYTHON ELEMENTARY\\Python for DS and ML Bootcamp\n",
      "\n",
      "01/27/2025  04:52 PM    <DIR>          .\n",
      "01/27/2025  04:52 PM    <DIR>          ..\n",
      "01/26/2025  06:32 PM    <DIR>          .venv\n",
      "01/28/2025  04:49 AM    <DIR>          01-Python-Crash-Course\n",
      "               0 File(s)              0 bytes\n",
      "               4 Dir(s)  44,817,522,688 bytes free\n"
     ]
    }
   ],
   "source": [
    "ls"
   ]
  },
  {
   "cell_type": "code",
   "execution_count": 30,
   "id": "9a13ffd5-1252-4fdc-9303-e778c90ed171",
   "metadata": {},
   "outputs": [
    {
     "data": {
      "text/plain": [
       "\u001b[1;31mRepr:\u001b[0m <alias ls for 'dir /on'>"
      ]
     },
     "metadata": {},
     "output_type": "display_data"
    }
   ],
   "source": [
    "ls?"
   ]
  },
  {
   "cell_type": "code",
   "execution_count": 31,
   "id": "6fe64e76-b89d-413b-b2de-7599775df2d6",
   "metadata": {},
   "outputs": [
    {
     "data": {
      "text/plain": [
       "\u001b[1;31mRepr:\u001b[0m <alias ls for 'dir /on'>"
      ]
     },
     "metadata": {},
     "output_type": "display_data"
    }
   ],
   "source": [
    "%ls?"
   ]
  },
  {
   "cell_type": "code",
   "execution_count": 32,
   "id": "c6c3ede8-773f-4fd7-9039-8cdd27d39476",
   "metadata": {},
   "outputs": [
    {
     "data": {
      "text/plain": [
       "\u001b[1;31mDocstring:\u001b[0m\n",
       "Show attributes of an object.\n",
       "\n",
       "If called without an argument, return the names in the current scope.\n",
       "Else, return an alphabetized list of names comprising (some of) the attributes\n",
       "of the given object, and of attributes reachable from it.\n",
       "If the object supplies a method named __dir__, it will be used; otherwise\n",
       "the default dir() logic is used and returns:\n",
       "  for a module object: the module's attributes.\n",
       "  for a class object:  its attributes, and recursively the attributes\n",
       "    of its bases.\n",
       "  for any other object: its attributes, its class's attributes, and\n",
       "    recursively the attributes of its class's base classes.\n",
       "\u001b[1;31mType:\u001b[0m      builtin_function_or_method"
      ]
     },
     "metadata": {},
     "output_type": "display_data"
    }
   ],
   "source": [
    "dir?\n"
   ]
  },
  {
   "cell_type": "code",
   "execution_count": 33,
   "id": "8658e361-ae55-4e35-9027-a9d61ccefebb",
   "metadata": {},
   "outputs": [
    {
     "name": "stderr",
     "output_type": "stream",
     "text": [
      "UsageError: Line magic function `%cat` not found.\n"
     ]
    }
   ],
   "source": [
    "%cat"
   ]
  },
  {
   "cell_type": "markdown",
   "id": "87827104-57f7-4cea-8a5c-41968d7d7eaa",
   "metadata": {},
   "source": [
    "mkdir tmp"
   ]
  },
  {
   "cell_type": "code",
   "execution_count": 34,
   "id": "de4b20a4-51a4-46cb-88f9-571b78b01402",
   "metadata": {},
   "outputs": [
    {
     "name": "stdout",
     "output_type": "stream",
     "text": [
      " Volume in drive C has no label.\n",
      " Volume Serial Number is 5A2A-16EA\n",
      "\n",
      " Directory of C:\\PYTHON ELEMENTARY\\Python for DS and ML Bootcamp\n",
      "\n",
      "01/27/2025  04:52 PM    <DIR>          .\n",
      "01/27/2025  04:52 PM    <DIR>          ..\n",
      "01/26/2025  06:32 PM    <DIR>          .venv\n",
      "01/28/2025  04:49 AM    <DIR>          01-Python-Crash-Course\n",
      "               0 File(s)              0 bytes\n",
      "               4 Dir(s)  44,817,522,688 bytes free\n"
     ]
    }
   ],
   "source": [
    "ls"
   ]
  },
  {
   "cell_type": "code",
   "execution_count": 35,
   "id": "08758597-114e-4233-ab14-ecb2fd4ac72d",
   "metadata": {},
   "outputs": [
    {
     "name": "stdout",
     "output_type": "stream",
     "text": [
      " Volume in drive C has no label.\n",
      " Volume Serial Number is 5A2A-16EA\n",
      "\n",
      " Directory of C:\\PYTHON ELEMENTARY\\Python for DS and ML Bootcamp\n",
      "\n"
     ]
    },
    {
     "name": "stderr",
     "output_type": "stream",
     "text": [
      "File Not Found\n"
     ]
    }
   ],
   "source": [
    "ls tmp"
   ]
  },
  {
   "cell_type": "code",
   "execution_count": 36,
   "id": "e3cc82a5-f99c-48e5-a864-7265be157b69",
   "metadata": {},
   "outputs": [
    {
     "ename": "SyntaxError",
     "evalue": "invalid syntax (1572476379.py, line 1)",
     "output_type": "error",
     "traceback": [
      "\u001b[1;36m  Cell \u001b[1;32mIn[36], line 1\u001b[1;36m\u001b[0m\n\u001b[1;33m    rm -r tmp\u001b[0m\n\u001b[1;37m          ^\u001b[0m\n\u001b[1;31mSyntaxError\u001b[0m\u001b[1;31m:\u001b[0m invalid syntax\n"
     ]
    }
   ],
   "source": [
    "rm -r tmp"
   ]
  },
  {
   "cell_type": "code",
   "execution_count": 37,
   "id": "66081d3b-94f4-4efa-bd4e-93611bbc216a",
   "metadata": {},
   "outputs": [],
   "source": [
    "def func1(a, b):\n",
    "    return a / b\n",
    "def func2(x):\n",
    "    a = x\n",
    "    b = x-1\n",
    "    return func1(a, b)"
   ]
  },
  {
   "cell_type": "code",
   "execution_count": 38,
   "id": "f2b7e7d5-b08e-4279-8644-e0e193b7afbf",
   "metadata": {},
   "outputs": [
    {
     "ename": "ZeroDivisionError",
     "evalue": "division by zero",
     "output_type": "error",
     "traceback": [
      "\u001b[1;31m---------------------------------------------------------------------------\u001b[0m",
      "\u001b[1;31mZeroDivisionError\u001b[0m                         Traceback (most recent call last)",
      "Cell \u001b[1;32mIn[38], line 1\u001b[0m\n\u001b[1;32m----> 1\u001b[0m func2(\u001b[38;5;241m1\u001b[39m)\n",
      "Cell \u001b[1;32mIn[37], line 6\u001b[0m, in \u001b[0;36mfunc2\u001b[1;34m(x)\u001b[0m\n\u001b[0;32m      4\u001b[0m a \u001b[38;5;241m=\u001b[39m x\n\u001b[0;32m      5\u001b[0m b \u001b[38;5;241m=\u001b[39m x\u001b[38;5;241m-\u001b[39m\u001b[38;5;241m1\u001b[39m\n\u001b[1;32m----> 6\u001b[0m \u001b[38;5;28;01mreturn\u001b[39;00m func1(a, b)\n",
      "Cell \u001b[1;32mIn[37], line 2\u001b[0m, in \u001b[0;36mfunc1\u001b[1;34m(a, b)\u001b[0m\n\u001b[0;32m      1\u001b[0m \u001b[38;5;28;01mdef\u001b[39;00m \u001b[38;5;21mfunc1\u001b[39m(a, b):\n\u001b[1;32m----> 2\u001b[0m     \u001b[38;5;28;01mreturn\u001b[39;00m a \u001b[38;5;241m/\u001b[39m b\n",
      "\u001b[1;31mZeroDivisionError\u001b[0m: division by zero"
     ]
    }
   ],
   "source": [
    "func2(1)"
   ]
  },
  {
   "cell_type": "code",
   "execution_count": 39,
   "id": "9fa3b614-9b48-403e-8356-fc578ef49399",
   "metadata": {},
   "outputs": [
    {
     "name": "stdout",
     "output_type": "stream",
     "text": [
      "Exception reporting mode: Plain\n"
     ]
    }
   ],
   "source": [
    "%xmode Plain"
   ]
  },
  {
   "cell_type": "code",
   "execution_count": 40,
   "id": "015a110c-cbaa-4b02-a012-5a01ac557d49",
   "metadata": {},
   "outputs": [
    {
     "ename": "ZeroDivisionError",
     "evalue": "division by zero",
     "output_type": "error",
     "traceback": [
      "Traceback \u001b[1;36m(most recent call last)\u001b[0m:\n",
      "\u001b[0m  Cell \u001b[0;32mIn[40], line 1\u001b[0m\n    func2(1)\u001b[0m\n",
      "\u001b[0m  Cell \u001b[0;32mIn[37], line 6\u001b[0m in \u001b[0;35mfunc2\u001b[0m\n    return func1(a, b)\u001b[0m\n",
      "\u001b[1;36m  Cell \u001b[1;32mIn[37], line 2\u001b[1;36m in \u001b[1;35mfunc1\u001b[1;36m\n\u001b[1;33m    return a / b\u001b[1;36m\n",
      "\u001b[1;31mZeroDivisionError\u001b[0m\u001b[1;31m:\u001b[0m division by zero\n"
     ]
    }
   ],
   "source": [
    "func2(1)"
   ]
  },
  {
   "cell_type": "code",
   "execution_count": 41,
   "id": "1855b8f5-3175-4dde-99bd-8debe8578d13",
   "metadata": {},
   "outputs": [
    {
     "name": "stdout",
     "output_type": "stream",
     "text": [
      "Exception reporting mode: Verbose\n"
     ]
    }
   ],
   "source": [
    "%xmode Verbose"
   ]
  },
  {
   "cell_type": "code",
   "execution_count": 44,
   "id": "39d91639-cf22-4f90-ab13-5a81f5f224ec",
   "metadata": {},
   "outputs": [
    {
     "name": "stdout",
     "output_type": "stream",
     "text": [
      "Exception reporting mode: Plain\n",
      "Automatic pdb calling has been turned ON\n"
     ]
    },
    {
     "ename": "ZeroDivisionError",
     "evalue": "division by zero",
     "output_type": "error",
     "traceback": [
      "Traceback \u001b[1;36m(most recent call last)\u001b[0m:\n",
      "\u001b[0m  Cell \u001b[0;32mIn[44], line 3\u001b[0m\n    func2(1)\u001b[0m\n",
      "\u001b[0m  Cell \u001b[0;32mIn[37], line 6\u001b[0m in \u001b[0;35mfunc2\u001b[0m\n    return func1(a, b)\u001b[0m\n",
      "\u001b[1;36m  Cell \u001b[1;32mIn[37], line 2\u001b[1;36m in \u001b[1;35mfunc1\u001b[1;36m\n\u001b[1;33m    return a / b\u001b[1;36m\n",
      "\u001b[1;31mZeroDivisionError\u001b[0m\u001b[1;31m:\u001b[0m division by zero\n"
     ]
    },
    {
     "name": "stdout",
     "output_type": "stream",
     "text": [
      "> \u001b[1;32mc:\\users\\surface laptop\\appdata\\local\\temp\\ipykernel_3732\\3182957285.py\u001b[0m(2)\u001b[0;36mfunc1\u001b[1;34m()\u001b[0m\n",
      "\n"
     ]
    },
    {
     "name": "stdin",
     "output_type": "stream",
     "text": [
      "ipdb>  print(a)\n"
     ]
    },
    {
     "name": "stdout",
     "output_type": "stream",
     "text": [
      "1\n"
     ]
    },
    {
     "name": "stdin",
     "output_type": "stream",
     "text": [
      "ipdb>  quit\n"
     ]
    }
   ],
   "source": [
    "%xmode Plain\n",
    "%pdb on\n",
    "func2(1)"
   ]
  },
  {
   "cell_type": "code",
   "execution_count": 46,
   "id": "75e1638f-1085-4aeb-88c0-b9655fafa774",
   "metadata": {},
   "outputs": [
    {
     "name": "stdout",
     "output_type": "stream",
     "text": [
      "862 ns ± 10.5 ns per loop (mean ± std. dev. of 7 runs, 1,000,000 loops each)\n"
     ]
    }
   ],
   "source": [
    "%timeit sum(range(100))"
   ]
  },
  {
   "cell_type": "code",
   "execution_count": 53,
   "id": "d4ce5af4-3c14-40f3-aad7-e352a2ebc7c1",
   "metadata": {},
   "outputs": [
    {
     "name": "stdout",
     "output_type": "stream",
     "text": [
      "CPU times: total: 31.2 ms\n",
      "Wall time: 35.7 ms\n"
     ]
    }
   ],
   "source": [
    "import random\n",
    "\n",
    "L = [random.random() for i in range(100000)]\n",
    "%timeit L.sort()\n"
   ]
  },
  {
   "cell_type": "code",
   "execution_count": 54,
   "id": "f250914a-2be4-4166-986d-1fa1ec53cdcf",
   "metadata": {
    "scrolled": true
   },
   "outputs": [
    {
     "data": {
      "text/plain": [
       "\u001b[1;31mDocstring:\u001b[0m\n",
       "Time execution of a Python statement or expression.\n",
       "\n",
       "The CPU and wall clock times are printed, and the value of the\n",
       "expression (if any) is returned.  Note that under Win32, system time\n",
       "is always reported as 0, since it can not be measured.\n",
       "\n",
       "This function can be used both as a line and cell magic:\n",
       "\n",
       "- In line mode you can time a single-line statement (though multiple\n",
       "  ones can be chained with using semicolons).\n",
       "\n",
       "- In cell mode, you can time the cell body (a directly\n",
       "  following statement raises an error).\n",
       "\n",
       "This function provides very basic timing functionality.  Use the timeit\n",
       "magic for more control over the measurement.\n",
       "\n",
       ".. versionchanged:: 7.3\n",
       "    User variables are no longer expanded,\n",
       "    the magic line is always left unmodified.\n",
       "\n",
       "Examples\n",
       "--------\n",
       "::\n",
       "\n",
       "  In [1]: %time 2**128\n",
       "  CPU times: user 0.00 s, sys: 0.00 s, total: 0.00 s\n",
       "  Wall time: 0.00\n",
       "  Out[1]: 340282366920938463463374607431768211456L\n",
       "\n",
       "  In [2]: n = 1000000\n",
       "\n",
       "  In [3]: %time sum(range(n))\n",
       "  CPU times: user 1.20 s, sys: 0.05 s, total: 1.25 s\n",
       "  Wall time: 1.37\n",
       "  Out[3]: 499999500000L\n",
       "\n",
       "  In [4]: %time print('hello world')\n",
       "  hello world\n",
       "  CPU times: user 0.00 s, sys: 0.00 s, total: 0.00 s\n",
       "  Wall time: 0.00\n",
       "\n",
       ".. note::\n",
       "    The time needed by Python to compile the given expression will be\n",
       "    reported if it is more than 0.1s.\n",
       "\n",
       "    In the example below, the actual exponentiation is done by Python\n",
       "    at compilation time, so while the expression can take a noticeable\n",
       "    amount of time to compute, that time is purely due to the\n",
       "    compilation::\n",
       "\n",
       "        In [5]: %time 3**9999;\n",
       "        CPU times: user 0.00 s, sys: 0.00 s, total: 0.00 s\n",
       "        Wall time: 0.00 s\n",
       "\n",
       "        In [6]: %time 3**999999;\n",
       "        CPU times: user 0.00 s, sys: 0.00 s, total: 0.00 s\n",
       "        Wall time: 0.00 s\n",
       "        Compiler : 0.78 s\n",
       "\u001b[1;31mFile:\u001b[0m      c:\\python\\miniconda\\lib\\site-packages\\ipython\\core\\magics\\execution.py"
      ]
     },
     "metadata": {},
     "output_type": "display_data"
    }
   ],
   "source": [
    "%time?"
   ]
  },
  {
   "cell_type": "code",
   "execution_count": 56,
   "id": "d8972c0a-6f10-4568-9bff-c06cf47ee9b9",
   "metadata": {},
   "outputs": [],
   "source": [
    "def sum_of_lists(N):\n",
    "     total = 0\n",
    "     for i in range(5):\n",
    "         L = [j ^ (j >> i) for j in range(N)]\n",
    "         total += sum(L)\n",
    "     return total"
   ]
  },
  {
   "cell_type": "code",
   "execution_count": 57,
   "id": "fa6afb8e-f2b2-406c-9635-4addeb9fae4c",
   "metadata": {},
   "outputs": [
    {
     "name": "stdout",
     "output_type": "stream",
     "text": [
      " "
     ]
    },
    {
     "data": {
      "text/plain": [
       "         732 function calls (718 primitive calls) in 0.920 seconds\n",
       "\n",
       "   Ordered by: internal time\n",
       "\n",
       "   ncalls  tottime  percall  cumtime  percall filename:lineno(function)\n",
       "        1    0.708    0.708    0.757    0.757 1185618745.py:1(sum_of_lists)\n",
       "        5    0.049    0.010    0.049    0.010 {built-in method builtins.sum}\n",
       "        1    0.041    0.041    0.041    0.041 {method 'execute' of 'sqlite3.Connection' objects}\n",
       "      5/3    0.024    0.005    0.024    0.008 {method 'run' of '_contextvars.Context' objects}\n",
       "        2    0.023    0.012    0.023    0.012 zmqstream.py:624(_handle_recv)\n",
       "       14    0.023    0.002    0.023    0.002 socket.py:626(send)\n",
       "      2/1    0.019    0.010    0.770    0.770 {built-in method builtins.exec}\n",
       "        2    0.016    0.008    0.016    0.008 {method '__exit__' of 'sqlite3.Connection' objects}\n",
       "        1    0.013    0.013    0.770    0.770 <string>:1(<module>)\n",
       "      3/1    0.002    0.001    0.000    0.000 selectors.py:319(select)\n",
       "        1    0.000    0.000    0.057    0.057 history.py:833(_writeout_input_cache)\n",
       "        1    0.000    0.000    0.000    0.000 {method 'disable' of '_lsprof.Profiler' objects}\n",
       "        5    0.000    0.000    0.000    0.000 attrsettr.py:66(_get_attr_opt)\n",
       "       72    0.000    0.000    0.000    0.000 enum.py:1538(_get_value)\n",
       "       16    0.000    0.000    0.000    0.000 enum.py:1545(__or__)\n",
       "        1    0.000    0.000    0.000    0.000 inspect.py:3133(_bind)\n",
       "  152/148    0.000    0.000    0.000    0.000 {built-in method builtins.isinstance}\n",
       "        2    0.000    0.000    0.000    0.000 traitlets.py:3631(set)\n",
       "        1    0.000    0.000    0.000    0.000 selector_events.py:129(_read_from_self)\n",
       "        1    0.000    0.000    0.000    0.000 concurrent.py:182(future_set_result_unless_cancelled)\n",
       "        2    0.000    0.000    0.000    0.000 socket.py:703(send_multipart)\n",
       "        5    0.000    0.000    0.000    0.000 attrsettr.py:43(__getattr__)\n",
       "       31    0.000    0.000    0.000    0.000 enum.py:720(__call__)\n",
       "        1    0.000    0.000    0.000    0.000 {method 'send' of '_socket.socket' objects}\n",
       "        2    0.000    0.000    0.000    0.000 {method 'recv' of '_socket.socket' objects}\n",
       "        4    0.000    0.000    0.854    0.213 base_events.py:1915(_run_once)\n",
       "        1    0.000    0.000    0.057    0.057 history.py:845(writeout_cache)\n",
       "        8    0.000    0.000    0.000    0.000 enum.py:1556(__and__)\n",
       "        2    0.000    0.000    0.000    0.000 socket.py:774(recv_multipart)\n",
       "      2/1    0.000    0.000    0.000    0.000 {built-in method select.select}\n",
       "        1    0.000    0.000    0.000    0.000 threading.py:311(_acquire_restore)\n",
       "        8    0.000    0.000    0.000    0.000 traitlets.py:629(get)\n",
       "       31    0.000    0.000    0.000    0.000 enum.py:1123(__new__)\n",
       "        8    0.000    0.000    0.000    0.000 traitlets.py:676(__get__)\n",
       "        1    0.000    0.000    0.000    0.000 kernelbase.py:302(poll_control_queue)\n",
       "        4    0.000    0.000    0.000    0.000 queue.py:97(empty)\n",
       "        1    0.000    0.000    0.000    0.000 traitlets.py:1527(_notify_observers)\n",
       "        6    0.000    0.000    0.000    0.000 typing.py:392(inner)\n",
       "        1    0.000    0.000    0.000    0.000 decorator.py:199(fix)\n",
       "      5/3    0.000    0.000    0.024    0.008 events.py:86(_run)\n",
       "        2    0.000    0.000    0.000    0.000 iostream.py:278(_really_send)\n",
       "        1    0.000    0.000    0.000    0.000 inspect.py:2949(apply_defaults)\n",
       "        2    0.000    0.000    0.024    0.012 zmqstream.py:583(_handle_events)\n",
       "        3    0.000    0.000    0.000    0.000 zmqstream.py:663(_rebuild_io_state)\n",
       "        1    0.000    0.000    0.000    0.000 poll.py:80(poll)\n",
       "        5    0.000    0.000    0.000    0.000 <frozen importlib._bootstrap>:1390(_handle_fromlist)\n",
       "        1    0.000    0.000    0.058    0.058 decorator.py:229(fun)\n",
       "        2    0.000    0.000    0.000    0.000 iostream.py:157(_handle_event)\n",
       "       10    0.000    0.000    0.000    0.000 {built-in method builtins.hasattr}\n",
       "        3    0.000    0.000    0.000    0.000 threading.py:299(__enter__)\n",
       "        1    0.000    0.000    0.000    0.000 asyncio.py:225(add_callback)\n",
       "        3    0.000    0.000    0.000    0.000 base_events.py:813(_call_soon)\n",
       "        3    0.000    0.000    0.000    0.000 zmqstream.py:686(_update_handler)\n",
       "        4    0.000    0.000    0.000    0.000 typing.py:1285(__hash__)\n",
       "        4    0.000    0.000    0.000    0.000 selector_events.py:750(_process_events)\n",
       "        2    0.000    0.000    0.000    0.000 traitlets.py:689(set)\n",
       "        2    0.000    0.000    0.000    0.000 traitlets.py:3474(validate)\n",
       "        2    0.000    0.000    0.000    0.000 traitlets.py:718(_validate)\n",
       "        1    0.000    0.000    0.000    0.000 _base.py:537(set_result)\n",
       "        2    0.000    0.000    0.000    0.000 iostream.py:276(<lambda>)\n",
       "        2    0.000    0.000    0.000    0.000 traitlets.py:727(_cross_validate)\n",
       "      2/1    0.000    0.000    0.000    0.000 ioloop.py:742(_run_callback)\n",
       "        1    0.000    0.000    0.000    0.000 inspect.py:3272(bind)\n",
       "        1    0.000    0.000    0.057    0.057 history.py:55(only_when_enabled)\n",
       "        5    0.000    0.000    0.000    0.000 base_events.py:733(time)\n",
       "        1    0.000    0.000    0.000    0.000 kernelbase.py:324(_flush)\n",
       "        1    0.000    0.000    0.000    0.000 queues.py:225(get)\n",
       "        2    0.000    0.000    0.000    0.000 typing.py:1492(__subclasscheck__)\n",
       "        3    0.000    0.000    0.000    0.000 events.py:36(__init__)\n",
       "        1    0.000    0.000    0.000    0.000 traitlets.py:1512(_notify_trait)\n",
       "        1    0.000    0.000    0.000    0.000 queues.py:209(put_nowait)\n",
       "        3    0.000    0.000    0.000    0.000 threading.py:302(__exit__)\n",
       "        1    0.000    0.000    0.000    0.000 {built-in method _thread.allocate_lock}\n",
       "        1    0.000    0.000    0.000    0.000 inspect.py:2896(args)\n",
       "        2    0.000    0.000    0.000    0.000 zmqstream.py:556(_run_callback)\n",
       "        2    0.000    0.000    0.000    0.000 traitlets.py:3624(validate_elements)\n",
       "        1    0.000    0.000    0.000    0.000 {method 'values' of 'mappingproxy' objects}\n",
       "        2    0.000    0.000    0.000    0.000 queues.py:322(_consume_expired)\n",
       "        6    0.000    0.000    0.000    0.000 {built-in method builtins.next}\n",
       "       18    0.000    0.000    0.000    0.000 {built-in method builtins.len}\n",
       "        1    0.000    0.000    0.000    0.000 queues.py:186(put)\n",
       "        3    0.000    0.000    0.000    0.000 {method 'acquire' of '_thread.lock' objects}\n",
       "        2    0.000    0.000    0.000    0.000 base_events.py:1900(_add_callback)\n",
       "       28    0.000    0.000    0.000    0.000 typing.py:2183(cast)\n",
       "        2    0.000    0.000    0.000    0.000 typing.py:1221(__instancecheck__)\n",
       "        5    0.000    0.000    0.000    0.000 {built-in method builtins.getattr}\n",
       "        2    0.000    0.000    0.000    0.000 traitlets.py:708(__set__)\n",
       "        2    0.000    0.000    0.000    0.000 base_events.py:784(call_soon)\n",
       "        2    0.000    0.000    0.000    0.000 iostream.py:213(_is_master_process)\n",
       "        1    0.000    0.000    0.024    0.024 asyncio.py:200(_handle_events)\n",
       "        2    0.000    0.000    0.000    0.000 traitlets.py:2304(validate)\n",
       "        4    0.000    0.000    0.000    0.000 {built-in method builtins.max}\n",
       "        6    0.000    0.000    0.000    0.000 {method 'append' of 'list' objects}\n",
       "        9    0.000    0.000    0.000    0.000 {method 'popleft' of 'collections.deque' objects}\n",
       "      2/1    0.000    0.000    0.000    0.000 selectors.py:313(_select)\n",
       "        8    0.000    0.000    0.000    0.000 {method '__exit__' of '_thread.lock' objects}\n",
       "        4    0.000    0.000    0.000    0.000 zmqstream.py:542(sending)\n",
       "        8    0.000    0.000    0.000    0.000 {method 'append' of 'collections.deque' objects}\n",
       "        1    0.000    0.000    0.000    0.000 zmqstream.py:468(update_flag)\n",
       "        1    0.000    0.000    0.000    0.000 threading.py:627(clear)\n",
       "        2    0.000    0.000    0.000    0.000 abc.py:121(__subclasscheck__)\n",
       "        1    0.000    0.000    0.000    0.000 traitlets.py:1523(notify_change)\n",
       "        1    0.000    0.000    0.000    0.000 futures.py:396(_call_set_state)\n",
       "        2    0.000    0.000    0.000    0.000 {method 'set_result' of '_asyncio.Future' objects}\n",
       "        5    0.000    0.000    0.000    0.000 {built-in method time.monotonic}\n",
       "        5    0.000    0.000    0.000    0.000 {method 'upper' of 'str' objects}\n",
       "        2    0.000    0.000    0.000    0.000 {built-in method builtins.iter}\n",
       "        1    0.000    0.000    0.000    0.000 threading.py:424(notify_all)\n",
       "        4    0.000    0.000    0.000    0.000 queue.py:209(_qsize)\n",
       "        1    0.000    0.000    0.000    0.000 queues.py:256(get_nowait)\n",
       "        1    0.000    0.000    0.000    0.000 history.py:839(_writeout_output_cache)\n",
       "        1    0.000    0.000    0.000    0.000 inspect.py:2919(kwargs)\n",
       "        1    0.000    0.000    0.000    0.000 _base.py:337(_invoke_callbacks)\n",
       "        1    0.000    0.000    0.000    0.000 queues.py:317(__put_internal)\n",
       "        1    0.000    0.000    0.000    0.000 base_events.py:837(call_soon_threadsafe)\n",
       "        2    0.000    0.000    0.000    0.000 {built-in method _abc._abc_subclasscheck}\n",
       "        2    0.000    0.000    0.000    0.000 {built-in method builtins.issubclass}\n",
       "        2    0.000    0.000    0.000    0.000 selectors.py:275(_key_from_fd)\n",
       "        1    0.000    0.000    0.000    0.000 threading.py:308(_release_save)\n",
       "        1    0.000    0.000    0.000    0.000 selector_events.py:141(_write_to_self)\n",
       "        2    0.000    0.000    0.000    0.000 {built-in method nt.getpid}\n",
       "        2    0.000    0.000    0.000    0.000 iostream.py:216(_check_mp_mode)\n",
       "        1    0.000    0.000    0.000    0.000 zmqstream.py:427(flush)\n",
       "        4    0.000    0.000    0.000    0.000 {method 'get' of 'dict' objects}\n",
       "        3    0.000    0.000    0.000    0.000 {method 'items' of 'mappingproxy' objects}\n",
       "        1    0.000    0.000    0.000    0.000 threading.py:394(notify)\n",
       "       10    0.000    0.000    0.000    0.000 inspect.py:2808(kind)\n",
       "        2    0.000    0.000    0.000    0.000 traitlets.py:3486(validate_elements)\n",
       "        5    0.000    0.000    0.000    0.000 zmqstream.py:538(receiving)\n",
       "        4    0.000    0.000    0.000    0.000 {built-in method builtins.hash}\n",
       "        1    0.000    0.000    0.000    0.000 poll.py:31(register)\n",
       "        2    0.000    0.000    0.000    0.000 {method '__enter__' of '_thread.lock' objects}\n",
       "        5    0.000    0.000    0.000    0.000 base_events.py:2010(get_debug)\n",
       "        1    0.000    0.000    0.000    0.000 {built-in method _asyncio.get_running_loop}\n",
       "        2    0.000    0.000    0.000    0.000 {built-in method _contextvars.copy_context}\n",
       "        1    0.000    0.000    0.000    0.000 queues.py:177(empty)\n",
       "        1    0.000    0.000    0.000    0.000 {built-in method builtins.min}\n",
       "        1    0.000    0.000    0.000    0.000 threading.py:314(_is_owned)\n",
       "        1    0.000    0.000    0.000    0.000 queues.py:309(_get)\n",
       "        1    0.000    0.000    0.000    0.000 queues.py:173(qsize)\n",
       "        3    0.000    0.000    0.000    0.000 base_events.py:538(_check_closed)\n",
       "        4    0.000    0.000    0.000    0.000 inspect.py:2796(name)\n",
       "        4    0.000    0.000    0.000    0.000 inspect.py:3089(parameters)\n",
       "        2    0.000    0.000    0.000    0.000 iostream.py:255(closed)\n",
       "        1    0.000    0.000    0.000    0.000 {method '__enter__' of '_thread.RLock' objects}\n",
       "        2    0.000    0.000    0.000    0.000 {method 'extend' of 'list' objects}\n",
       "        2    0.000    0.000    0.000    0.000 {method 'cancelled' of '_asyncio.Future' objects}\n",
       "        1    0.000    0.000    0.000    0.000 zmqstream.py:694(<lambda>)\n",
       "        1    0.000    0.000    0.000    0.000 queues.py:312(_put)\n",
       "        1    0.000    0.000    0.000    0.000 zmqstream.py:659(_check_closed)\n",
       "        1    0.000    0.000    0.000    0.000 inspect.py:2888(__init__)\n",
       "        1    0.000    0.000    0.000    0.000 {method 'done' of '_asyncio.Future' objects}\n",
       "        1    0.000    0.000    0.000    0.000 locks.py:224(clear)\n",
       "        1    0.000    0.000    0.000    0.000 {method 'release' of '_thread.lock' objects}\n",
       "        1    0.000    0.000    0.000    0.000 {method '_is_owned' of '_thread.RLock' objects}\n",
       "        1    0.000    0.000    0.000    0.000 {method '__exit__' of '_thread.RLock' objects}\n",
       "        1    0.000    0.000    0.000    0.000 base_events.py:719(is_closed)\n",
       "        1    0.000    0.000    0.000    0.000 selector_events.py:126(_process_self_data)\n",
       "        1    0.000    0.000    0.000    0.000 queues.py:59(_set_timeout)"
      ]
     },
     "metadata": {},
     "output_type": "display_data"
    }
   ],
   "source": [
    "%prun sum_of_lists(1000000)"
   ]
  },
  {
   "cell_type": "code",
   "execution_count": null,
   "id": "23fab499-1eae-44a8-bcc5-4ce07935b84f",
   "metadata": {},
   "outputs": [],
   "source": []
  }
 ],
 "metadata": {
  "kernelspec": {
   "display_name": "Python 3 (ipykernel)",
   "language": "python",
   "name": "python3"
  },
  "language_info": {
   "codemirror_mode": {
    "name": "ipython",
    "version": 3
   },
   "file_extension": ".py",
   "mimetype": "text/x-python",
   "name": "python",
   "nbconvert_exporter": "python",
   "pygments_lexer": "ipython3",
   "version": "3.12.8"
  }
 },
 "nbformat": 4,
 "nbformat_minor": 5
}

{
 "cells": [
  {
   "cell_type": "markdown",
   "metadata": {},
   "source": [
    "### <b>Chapter 11: Sorting Arrays</b>"
   ]
  },
  {
   "cell_type": "code",
   "execution_count": 3,
   "metadata": {},
   "outputs": [],
   "source": [
    "import numpy as np"
   ]
  },
  {
   "cell_type": "code",
   "execution_count": 4,
   "metadata": {},
   "outputs": [
    {
     "name": "stdout",
     "output_type": "stream",
     "text": [
      "['h', 'n', 'o', 'p', 't', 'y']\n"
     ]
    }
   ],
   "source": [
    "print(sorted('python'))"
   ]
  },
  {
   "cell_type": "code",
   "execution_count": 5,
   "metadata": {},
   "outputs": [
    {
     "name": "stdout",
     "output_type": "stream",
     "text": [
      "[[0.4020733  0.30563311 0.67668051 0.15821208]\n",
      " [0.79247763 0.09419469 0.36753944 0.06388928]\n",
      " [0.96431608 0.35200998 0.54550343 0.88597945]]\n"
     ]
    },
    {
     "data": {
      "text/plain": [
       "array([[0.4020733 , 0.30563311, 0.15821208, 0.67668051],\n",
       "       [0.06388928, 0.09419469, 0.36753944, 0.79247763],\n",
       "       [0.88597945, 0.35200998, 0.54550343, 0.96431608]])"
      ]
     },
     "execution_count": 5,
     "metadata": {},
     "output_type": "execute_result"
    }
   ],
   "source": [
    "rng = np.random.default_rng(seed=1701)\n",
    "x= rng.random((3, 4))\n",
    "print(x)\n",
    "np.partition(x, 3)\n"
   ]
  },
  {
   "cell_type": "code",
   "execution_count": 6,
   "metadata": {},
   "outputs": [
    {
     "name": "stdout",
     "output_type": "stream",
     "text": [
      "[[0 7 6 4 4 8]\n",
      " [0 6 2 0 5 9]\n",
      " [7 7 7 7 5 1]\n",
      " [8 4 5 3 1 9]]\n"
     ]
    }
   ],
   "source": [
    "rng = np.random.default_rng(seed=42)\n",
    "X = rng.integers(0, 10, (4, 6))\n",
    "print(X)"
   ]
  },
  {
   "cell_type": "code",
   "execution_count": 7,
   "metadata": {},
   "outputs": [
    {
     "data": {
      "text/plain": [
       "array([[0, 4, 2, 0, 1, 1],\n",
       "       [0, 6, 5, 3, 4, 8],\n",
       "       [7, 7, 6, 4, 5, 9],\n",
       "       [8, 7, 7, 7, 5, 9]], dtype=int64)"
      ]
     },
     "execution_count": 7,
     "metadata": {},
     "output_type": "execute_result"
    }
   ],
   "source": [
    "# sort each column of X\n",
    "np.sort(X, axis=0)"
   ]
  },
  {
   "cell_type": "code",
   "execution_count": 8,
   "metadata": {},
   "outputs": [
    {
     "data": {
      "text/plain": [
       "array([[0, 4, 4, 6, 7, 8],\n",
       "       [0, 0, 2, 5, 6, 9],\n",
       "       [1, 5, 7, 7, 7, 7],\n",
       "       [1, 3, 4, 5, 8, 9]], dtype=int64)"
      ]
     },
     "execution_count": 8,
     "metadata": {},
     "output_type": "execute_result"
    }
   ],
   "source": [
    "# sort each row of X\n",
    "np.sort(X, axis=1)"
   ]
  },
  {
   "cell_type": "code",
   "execution_count": 9,
   "metadata": {},
   "outputs": [
    {
     "data": {
      "text/plain": [
       "array([2, 1, 3, 4, 6, 5, 7])"
      ]
     },
     "execution_count": 9,
     "metadata": {},
     "output_type": "execute_result"
    }
   ],
   "source": [
    "x = np.array([7, 2, 3, 1, 6, 5, 4])\n",
    "np.partition(x, 3)\n",
    "# np.partition(x, 3, axis=0)"
   ]
  },
  {
   "cell_type": "code",
   "execution_count": 10,
   "metadata": {},
   "outputs": [
    {
     "name": "stdout",
     "output_type": "stream",
     "text": [
      "[[4 0 4 6 7 8]\n",
      " [0 0 2 5 6 9]\n",
      " [5 1 7 7 7 7]\n",
      " [1 5 4 3 8 9]]\n",
      "\n",
      "\n",
      "\n",
      "[[4 0 4 6 7 8]\n",
      " [0 0 2 5 6 9]\n",
      " [5 1 7 7 7 7]\n",
      " [1 5 4 3 8 9]]\n",
      "\n",
      "\n",
      "\n",
      "[[0 4 2 0 1 1]\n",
      " [0 6 5 3 4 8]\n",
      " [7 7 6 4 5 9]\n",
      " [8 7 7 7 5 9]]\n",
      "\n",
      "\n",
      "\n",
      "[[0 7 6 4 4 8]\n",
      " [0 6 2 0 5 9]\n",
      " [7 7 7 7 5 1]\n",
      " [8 4 5 3 1 9]]\n"
     ]
    }
   ],
   "source": [
    "print(np.partition(X, 4, axis=1))\n",
    "print(\"\\n\\n\")\n",
    "print(np.partition(X, 4))\n",
    "print(\"\\n\\n\")\n",
    "print(np.partition(X, 3, axis=0))\n",
    "print(\"\\n\\n\")\n",
    "print(X)\n"
   ]
  },
  {
   "cell_type": "code",
   "execution_count": 11,
   "metadata": {},
   "outputs": [
    {
     "name": "stdout",
     "output_type": "stream",
     "text": [
      "[[0.77395605 0.43887844]\n",
      " [0.85859792 0.69736803]\n",
      " [0.09417735 0.97562235]\n",
      " [0.7611397  0.78606431]\n",
      " [0.12811363 0.45038594]\n",
      " [0.37079802 0.92676499]\n",
      " [0.64386512 0.82276161]\n",
      " [0.4434142  0.22723872]\n",
      " [0.55458479 0.06381726]\n",
      " [0.82763117 0.6316644 ]]\n"
     ]
    }
   ],
   "source": [
    "rng = np.random.default_rng(seed=42)\n",
    "X = rng.random((10, 2))\n",
    "print(X)"
   ]
  },
  {
   "cell_type": "code",
   "execution_count": 12,
   "metadata": {},
   "outputs": [
    {
     "data": {
      "image/png": "[encoded data removed]",
      "text/plain": [
       "<Figure size 640x480 with 1 Axes>"
      ]
     },
     "metadata": {},
     "output_type": "display_data"
    }
   ],
   "source": [
    "%matplotlib inline\n",
    "import matplotlib.pyplot as plt\n",
    "plt.style.use('seaborn-v0_8-whitegrid')\n",
    "plt.scatter(X[:, 0], X[:, 1], s=100);"
   ]
  },
  {
   "cell_type": "code",
   "execution_count": 13,
   "metadata": {},
   "outputs": [
    {
     "name": "stdout",
     "output_type": "stream",
     "text": [
      "[[[ 0  1]]\n",
      "\n",
      " [[ 2  3]]\n",
      "\n",
      " [[ 4  5]]\n",
      "\n",
      " [[ 6  7]]\n",
      "\n",
      " [[ 8  9]]\n",
      "\n",
      " [[10 11]]]\n",
      "\n",
      "\n",
      "\n",
      "[[[ 0  1]\n",
      "  [ 2  3]\n",
      "  [ 4  5]\n",
      "  [ 6  7]\n",
      "  [ 8  9]\n",
      "  [10 11]]]\n",
      "\n",
      "\n",
      "\n",
      "[[[  0   0]\n",
      "  [ -2  -2]\n",
      "  [ -4  -4]\n",
      "  [ -6  -6]\n",
      "  [ -8  -8]\n",
      "  [-10 -10]]\n",
      "\n",
      " [[  2   2]\n",
      "  [  0   0]\n",
      "  [ -2  -2]\n",
      "  [ -4  -4]\n",
      "  [ -6  -6]\n",
      "  [ -8  -8]]\n",
      "\n",
      " [[  4   4]\n",
      "  [  2   2]\n",
      "  [  0   0]\n",
      "  [ -2  -2]\n",
      "  [ -4  -4]\n",
      "  [ -6  -6]]\n",
      "\n",
      " [[  6   6]\n",
      "  [  4   4]\n",
      "  [  2   2]\n",
      "  [  0   0]\n",
      "  [ -2  -2]\n",
      "  [ -4  -4]]\n",
      "\n",
      " [[  8   8]\n",
      "  [  6   6]\n",
      "  [  4   4]\n",
      "  [  2   2]\n",
      "  [  0   0]\n",
      "  [ -2  -2]]\n",
      "\n",
      " [[ 10  10]\n",
      "  [  8   8]\n",
      "  [  6   6]\n",
      "  [  4   4]\n",
      "  [  2   2]\n",
      "  [  0   0]]]\n"
     ]
    }
   ],
   "source": [
    "u = np.arange(12).reshape(6,2)\n",
    "# print(u)\n",
    "# print(\"\\n\\n\")\n",
    "print(u[:, np.newaxis]) #(6, 1, 2)\n",
    "print(\"\\n\\n\")\n",
    "print(u[np.newaxis, :]) #(1, 6, 2)\n",
    "print(\"\\n\\n\")\n",
    "print(u[:, np.newaxis]-u[np.newaxis, :]) #(6, 6, 2)"
   ]
  },
  {
   "cell_type": "code",
   "execution_count": 14,
   "metadata": {},
   "outputs": [
    {
     "name": "stdout",
     "output_type": "stream",
     "text": [
      "\n",
      "\n",
      "\n",
      "[[[0 1]]\n",
      "\n",
      " [[2 3]]\n",
      "\n",
      " [[4 5]]]\n",
      "\n",
      "\n",
      "\n",
      "[[[0 1]\n",
      "  [2 3]\n",
      "  [4 5]]]\n",
      "\n",
      "\n",
      "\n",
      "[[[ 0  0]\n",
      "  [ 4  4]\n",
      "  [16 16]]\n",
      "\n",
      " [[ 4  4]\n",
      "  [ 0  0]\n",
      "  [ 4  4]]\n",
      "\n",
      " [[16 16]\n",
      "  [ 4  4]\n",
      "  [ 0  0]]]\n"
     ]
    }
   ],
   "source": [
    "y = np.arange(6).reshape(3,2)\n",
    "# print(y)\n",
    "print(\"\\n\\n\")\n",
    "print(y[:, np.newaxis]) #(6, 1, 2)\n",
    "print(\"\\n\\n\")\n",
    "print(y[np.newaxis, :]) #(1, 6, 2)\n",
    "print(\"\\n\\n\")\n",
    "print((y[:, np.newaxis]-y[np.newaxis, :])**2) #(6, 6, 2)"
   ]
  },
  {
   "cell_type": "code",
   "execution_count": 15,
   "metadata": {},
   "outputs": [
    {
     "name": "stdout",
     "output_type": "stream",
     "text": [
      "[[[ 0  0]\n",
      "  [-2 -2]\n",
      "  [-4 -4]]\n",
      "\n",
      " [[ 2  2]\n",
      "  [ 0  0]\n",
      "  [-2 -2]]\n",
      "\n",
      " [[ 4  4]\n",
      "  [ 2  2]\n",
      "  [ 0  0]]]\n",
      "[[ 0  8 32]\n",
      " [ 8  0  8]\n",
      " [32  8  0]]\n"
     ]
    }
   ],
   "source": [
    "print(y[:, np.newaxis]-y[np.newaxis, :])\n",
    "dist_s=np.sum((y[:, np.newaxis]-y[np.newaxis, :])**2, axis = -1)\n",
    "print(dist_s)"
   ]
  },
  {
   "cell_type": "code",
   "execution_count": 16,
   "metadata": {},
   "outputs": [
    {
     "data": {
      "image/png": "[encoded data removed]",
      "text/plain": [
       "<Figure size 640x480 with 1 Axes>"
      ]
     },
     "metadata": {},
     "output_type": "display_data"
    }
   ],
   "source": [
    "\n",
    "rng = np.random.default_rng(seed=42)\n",
    "y = rng.random((10, 2))\n",
    "dist_s=np.sum((y[:, np.newaxis]-y[np.newaxis, :])**2, axis = -1)\n",
    "nearest = np.argsort(dist_s, axis = -1)\n",
    "K = 2\n",
    "nearest_partition = np.argpartition(dist_s, K + 1, axis=1)\n",
    "plt.scatter(X[:, 0], X[:, 1], s=100)\n",
    "# draw lines from each point to its two nearest neighbors\n",
    "K = 2\n",
    "for i in range(X.shape[0]):\n",
    "    for j in nearest_partition[i, :K+1]:\n",
    "        # plot a line from X[i] to X[j]\n",
    "        # use some zip magic to make it happen:\n",
    "        plt.plot(*zip(X[j], X[i]), color='black')"
   ]
  },
  {
   "cell_type": "code",
   "execution_count": 17,
   "metadata": {},
   "outputs": [
    {
     "name": "stdout",
     "output_type": "stream",
     "text": [
      "[[0 1]\n",
      " [2 3]\n",
      " [4 5]]\n"
     ]
    },
    {
     "data": {
      "text/plain": [
       "1"
      ]
     },
     "execution_count": 17,
     "metadata": {},
     "output_type": "execute_result"
    }
   ],
   "source": [
    "y = np.arange(6).reshape(3,2)\n",
    "print(y)\n",
    "y[0, 1]"
   ]
  },
  {
   "cell_type": "markdown",
   "metadata": {},
   "source": [
    "### <b>Chapter 12: Structured Data: NumPy's Structured Arrays</b>"
   ]
  },
  {
   "cell_type": "code",
   "execution_count": 18,
   "metadata": {},
   "outputs": [
    {
     "name": "stdout",
     "output_type": "stream",
     "text": [
      "[['' '' '' '' '' '' '' '']\n",
      " ['' '' '' '' '' '' '' '']\n",
      " ['' '' '' '' '' '' '' '']\n",
      " ['' '' '' '' '' '' '' '']]\n",
      "<U1\n"
     ]
    }
   ],
   "source": [
    "x = np.zeros((4,8), dtype=str)\n",
    "print(x)\n",
    "print(x.dtype)"
   ]
  },
  {
   "cell_type": "code",
   "execution_count": 19,
   "metadata": {},
   "outputs": [
    {
     "name": "stdout",
     "output_type": "stream",
     "text": [
      "[('', 0, 0.) ('', 0, 0.) ('', 0, 0.) ('', 0, 0.)]\n"
     ]
    }
   ],
   "source": [
    "# Use a compound data type for structured arrays\n",
    "data = np.zeros(4, dtype={'names':('name', 'age', 'weight'),\n",
    "'formats':('U10', 'i4', 'f8')})\n",
    "print(data)"
   ]
  },
  {
   "cell_type": "code",
   "execution_count": 20,
   "metadata": {},
   "outputs": [
    {
     "data": {
      "text/plain": [
       "array([0., 0., 0., 0.])"
      ]
     },
     "execution_count": 20,
     "metadata": {},
     "output_type": "execute_result"
    }
   ],
   "source": [
    "da = np.zeros(4)\n",
    "da\n"
   ]
  },
  {
   "cell_type": "code",
   "execution_count": 21,
   "metadata": {},
   "outputs": [],
   "source": [
    "name = ['Alice', 'Bob', 'Cathy', 'Doug']\n",
    "age = [25, 45, 37, 19]\n",
    "weight = [55.0, 85.5, 68.0, 61.5]"
   ]
  },
  {
   "cell_type": "code",
   "execution_count": 22,
   "metadata": {},
   "outputs": [
    {
     "name": "stdout",
     "output_type": "stream",
     "text": [
      "[ True False False  True]\n",
      "[('name', '<U10'), ('age', '<i4'), ('weight', '<f8')]\n"
     ]
    }
   ],
   "source": [
    "data['name'] = name\n",
    "data['age'] = age\n",
    "data['weight'] = weight\n",
    "print(data['age']<30)\n",
    "print(data.dtype)"
   ]
  },
  {
   "cell_type": "code",
   "execution_count": 24,
   "metadata": {},
   "outputs": [
    {
     "name": "stdout",
     "output_type": "stream",
     "text": [
      "[('Alice', 25, 55.5) ('Bob', 30, 72.3) ('Charlie', 22, 68.9)]\n",
      "<class 'numpy.ndarray'>\n"
     ]
    }
   ],
   "source": [
    "dtype_example = np.dtype({\n",
    "    'names': ('name', 'age', 'weight'),\n",
    "    'formats': ('U10', 'i4', 'f8')\n",
    "})\n",
    "data = np.array([\n",
    "    ('Alice', 25, 55.5),\n",
    "    ('Bob', 30, 72.3),\n",
    "    ('Charlie', 22, 68.9)\n",
    "], dtype=dtype_example)\n",
    "\n",
    "print(data)\n",
    "print(type(data))"
   ]
  },
  {
   "cell_type": "code",
   "execution_count": 42,
   "metadata": {},
   "outputs": [
    {
     "name": "stdout",
     "output_type": "stream",
     "text": [
      "[(0, [[0., 0., 0.], [0., 0., 0.], [0., 0., 0.]])]\n",
      "(1,)\n",
      "<class 'numpy.ndarray'>\n",
      "0\n",
      "[0]\n",
      "0\n",
      "\n",
      "\n",
      "\n",
      "[[[0. 0. 0.]\n",
      "  [0. 0. 0.]\n",
      "  [0. 0. 0.]]]\n",
      "\n",
      "\n",
      "[[0. 0. 0.]\n",
      " [0. 0. 0.]\n",
      " [0. 0. 0.]]\n",
      "\n",
      "\n",
      "[[0. 0. 0.]\n",
      " [0. 0. 0.]\n",
      " [0. 0. 0.]]\n"
     ]
    }
   ],
   "source": [
    "tp = np.dtype([('id', 'i8'), ('mat', 'f8', (3, 3))])\n",
    "X = np.zeros(1, dtype=tp)\n",
    "print(X)\n",
    "print(X.shape)\n",
    "print(type(X))\n",
    "\n",
    "print(X[0]['id'])\n",
    "print(X['id'])\n",
    "print(X['id'][0])\n",
    "print(\"\\n\\n\")\n",
    "print(X['mat'])\n",
    "print(\"\\n\")\n",
    "print(X['mat'][0])\n",
    "print(\"\\n\")\n",
    "print(X[0]['mat'])"
   ]
  },
  {
   "cell_type": "code",
   "execution_count": 43,
   "metadata": {},
   "outputs": [
    {
     "name": "stdout",
     "output_type": "stream",
     "text": [
      "[(0, [[0., 0., 0.], [0., 0., 0.], [0., 0., 0.]])\n",
      " (0, [[0., 0., 0.], [0., 0., 0.], [0., 0., 0.]])\n",
      " (0, [[0., 0., 0.], [0., 0., 0.], [0., 0., 0.]])]\n",
      "(3,)\n",
      "<class 'numpy.ndarray'>\n",
      "0\n",
      "[0 0 0]\n",
      "0\n",
      "\n",
      "\n",
      "\n",
      "[[[0. 0. 0.]\n",
      "  [0. 0. 0.]\n",
      "  [0. 0. 0.]]\n",
      "\n",
      " [[0. 0. 0.]\n",
      "  [0. 0. 0.]\n",
      "  [0. 0. 0.]]\n",
      "\n",
      " [[0. 0. 0.]\n",
      "  [0. 0. 0.]\n",
      "  [0. 0. 0.]]]\n",
      "\n",
      "\n",
      "[[0. 0. 0.]\n",
      " [0. 0. 0.]\n",
      " [0. 0. 0.]]\n",
      "\n",
      "\n",
      "[[0. 0. 0.]\n",
      " [0. 0. 0.]\n",
      " [0. 0. 0.]]\n"
     ]
    }
   ],
   "source": [
    "tp = np.dtype([('id', 'i8'), ('mat', 'f8', (3, 3))])\n",
    "X = np.zeros(3, dtype=tp)\n",
    "print(X)\n",
    "print(X.shape)\n",
    "print(type(X))\n",
    "\n",
    "print(X[0]['id'])\n",
    "print(X['id'])\n",
    "print(X['id'][0])\n",
    "print(\"\\n\\n\")\n",
    "print(X['mat'])\n",
    "print(\"\\n\")\n",
    "print(X['mat'][0])\n",
    "print(\"\\n\")\n",
    "print(X[0]['mat'])"
   ]
  }
 ],
 "metadata": {
  "kernelspec": {
   "display_name": ".venv",
   "language": "python",
   "name": "python3"
  },
  "language_info": {
   "codemirror_mode": {
    "name": "ipython",
    "version": 3
   },
   "file_extension": ".py",
   "mimetype": "text/x-python",
   "name": "python",
   "nbconvert_exporter": "python",
   "pygments_lexer": "ipython3",
   "version": "3.12.8"
  }
 },
 "nbformat": 4,
 "nbformat_minor": 2
}

{
 "cells": [
  {
   "cell_type": "markdown",
   "metadata": {},
   "source": [
    "# <b>NumPy Array Attributs</b>"
   ]
  },
  {
   "cell_type": "code",
   "execution_count": 63,
   "metadata": {},
   "outputs": [],
   "source": [
    "import numpy as np\n",
    "rng = np.random.default_rng(seed=1701) # seed for reproducibility\n",
    "x1 = rng.integers(10, size=6) # one-dimensional array\n",
    "x2 = rng.integers(10, size=(3, 4)) # two-dimensional array\n",
    "x3 = rng.integers(10, size=(3, 4, 5)) # three-dimensional array\n"
   ]
  },
  {
   "cell_type": "code",
   "execution_count": 64,
   "metadata": {},
   "outputs": [
    {
     "name": "stdout",
     "output_type": "stream",
     "text": [
      "[8 6 5 2 3 0]\n"
     ]
    }
   ],
   "source": [
    "import numpy as np\n",
    "rng1 = np.random.default_rng(seed=0)\n",
    "print(rng1.integers(10, size=6))  # Always produces the same numbers\n"
   ]
  },
  {
   "cell_type": "code",
   "execution_count": 65,
   "metadata": {},
   "outputs": [
    {
     "name": "stdout",
     "output_type": "stream",
     "text": [
      "x3 ndim:  3\n",
      "x3 shape: (3, 4, 5)\n",
      "x3 size:  60\n",
      "dtype:  int64\n"
     ]
    }
   ],
   "source": [
    "print(\"x3 ndim: \", x3.ndim)\n",
    "print(\"x3 shape:\", x3.shape)\n",
    "print(\"x3 size: \", x3.size)\n",
    "print(\"dtype: \", x3.dtype)"
   ]
  },
  {
   "cell_type": "code",
   "execution_count": 66,
   "metadata": {},
   "outputs": [
    {
     "name": "stdout",
     "output_type": "stream",
     "text": [
      "[[[4 3 5 5 0]\n",
      "  [8 3 5 2 2]\n",
      "  [1 8 8 5 3]\n",
      "  [0 0 8 5 8]]\n",
      "\n",
      " [[5 1 6 2 3]\n",
      "  [1 2 5 6 2]\n",
      "  [5 2 7 9 3]\n",
      "  [5 6 0 2 0]]\n",
      "\n",
      " [[2 9 4 3 9]\n",
      "  [9 2 2 4 0]\n",
      "  [0 3 0 0 2]\n",
      "  [3 2 7 4 7]]]\n",
      "5\n",
      "5\n",
      "[12  6  0  2  0]\n"
     ]
    }
   ],
   "source": [
    "print(x3)\n",
    "print(x3[-2][-1][-5])\n",
    "print(x3[-2, -1, -5])\n",
    "x3[-2, -1, -5] = 12.987\n",
    "x1[0] = 3.134\n",
    "print(x3[-2, -1])"
   ]
  },
  {
   "cell_type": "code",
   "execution_count": 67,
   "metadata": {},
   "outputs": [
    {
     "name": "stdout",
     "output_type": "stream",
     "text": [
      "[[[ 4  3  5  5  0]\n",
      "  [ 8  3  5  2  2]\n",
      "  [ 1  8  8  5  3]\n",
      "  [ 0  0  8  5  8]]\n",
      "\n",
      " [[ 5  1  6  2  3]\n",
      "  [ 1  2  5  6  2]\n",
      "  [ 5  2  7  9  3]\n",
      "  [12  6  0  2  0]]]\n"
     ]
    }
   ],
   "source": [
    "print(x3[0:2])"
   ]
  },
  {
   "cell_type": "code",
   "execution_count": 68,
   "metadata": {},
   "outputs": [
    {
     "data": {
      "text/plain": [
       "array([3, 4, 0, 3, 8, 6])"
      ]
     },
     "execution_count": 68,
     "metadata": {},
     "output_type": "execute_result"
    }
   ],
   "source": [
    "x1[:]"
   ]
  },
  {
   "cell_type": "code",
   "execution_count": 69,
   "metadata": {},
   "outputs": [
    {
     "name": "stdout",
     "output_type": "stream",
     "text": [
      "[1, 2, 4]\n",
      "[1, 2]\n"
     ]
    },
    {
     "data": {
      "text/plain": [
       "[1, 2, 4]"
      ]
     },
     "execution_count": 69,
     "metadata": {},
     "output_type": "execute_result"
    }
   ],
   "source": [
    "my_list = [1, 2, 4]\n",
    "print(my_list)\n",
    "print(my_list[:2])\n",
    "my_list"
   ]
  },
  {
   "cell_type": "code",
   "execution_count": 70,
   "metadata": {},
   "outputs": [
    {
     "name": "stdout",
     "output_type": "stream",
     "text": [
      "[[1 2 3]\n",
      " [4 5 6]\n",
      " [7 8 9]]\n",
      "[1 2 3 4 5 6 7 8 9]\n"
     ]
    }
   ],
   "source": [
    "initial_array = np.arange(1, 10)\n",
    "grid = np.arange(1, 10).reshape(3, 3)\n",
    "print(grid)\n",
    "print(initial_array)"
   ]
  },
  {
   "cell_type": "code",
   "execution_count": 71,
   "metadata": {},
   "outputs": [
    {
     "name": "stdout",
     "output_type": "stream",
     "text": [
      "[1 2 3 4 5 6 7 8 9]\n"
     ]
    }
   ],
   "source": [
    "initial_array = np.arange(1, 10)\n",
    "initial_array.reshape(3, 3)\n",
    "print(initial_array)\n"
   ]
  },
  {
   "cell_type": "code",
   "execution_count": 72,
   "metadata": {},
   "outputs": [
    {
     "data": {
      "text/plain": [
       "array([[1, 2, 3]])"
      ]
     },
     "execution_count": 72,
     "metadata": {},
     "output_type": "execute_result"
    }
   ],
   "source": [
    "x = np.array([1, 2, 3])\n",
    "x.reshape((1, 3))"
   ]
  },
  {
   "cell_type": "code",
   "execution_count": 73,
   "metadata": {},
   "outputs": [
    {
     "data": {
      "text/plain": [
       "array([[1],\n",
       "       [2],\n",
       "       [3]])"
      ]
     },
     "execution_count": 73,
     "metadata": {},
     "output_type": "execute_result"
    }
   ],
   "source": [
    "x = np.array([1, 2, 3])\n",
    "x.reshape(3, 1)\n",
    "# print(x.reshape(3, 1))"
   ]
  },
  {
   "cell_type": "code",
   "execution_count": 74,
   "metadata": {},
   "outputs": [
    {
     "data": {
      "text/plain": [
       "array([1, 2, 3])"
      ]
     },
     "execution_count": 74,
     "metadata": {},
     "output_type": "execute_result"
    }
   ],
   "source": [
    "np.array((1,2,3))"
   ]
  },
  {
   "cell_type": "code",
   "execution_count": 75,
   "metadata": {},
   "outputs": [
    {
     "data": {
      "text/plain": [
       "array({1, 2, 3}, dtype=object)"
      ]
     },
     "execution_count": 75,
     "metadata": {},
     "output_type": "execute_result"
    }
   ],
   "source": [
    "np.array({1,2,3})"
   ]
  },
  {
   "cell_type": "code",
   "execution_count": 76,
   "metadata": {},
   "outputs": [
    {
     "data": {
      "text/plain": [
       "array([[1],\n",
       "       [2],\n",
       "       [3],\n",
       "       [3],\n",
       "       [2],\n",
       "       [1]])"
      ]
     },
     "execution_count": 76,
     "metadata": {},
     "output_type": "execute_result"
    }
   ],
   "source": [
    "x = np.array([1, 2, 3])\n",
    "y = np.array([3, 2, 1])\n",
    "z = np.concatenate([x, y]) #output:array([1, 2, 3, 3, 2, 1])\n",
    "z[np.newaxis, :] #output: array([[1, 2, 3, 3, 2, 1]])\n",
    "z[:, np.newaxis]"
   ]
  },
  {
   "cell_type": "code",
   "execution_count": 77,
   "metadata": {},
   "outputs": [
    {
     "name": "stdout",
     "output_type": "stream",
     "text": [
      "[[[ 4  3  5  5  0]\n",
      "  [ 8  3  5  2  2]\n",
      "  [ 1  8  8  5  3]\n",
      "  [ 0  0  8  5  8]]\n",
      "\n",
      " [[ 5  1  6  2  3]\n",
      "  [ 1  2  5  6  2]\n",
      "  [ 5  2  7  9  3]\n",
      "  [12  6  0  2  0]]\n",
      "\n",
      " [[ 2  9  4  3  9]\n",
      "  [ 9  2  2  4  0]\n",
      "  [ 0  3  0  0  2]\n",
      "  [ 3  2  7  4  7]]]\n"
     ]
    }
   ],
   "source": [
    "print(x3)\n",
    "# x5 = np.dsplit(x3, [3])\n",
    "# x5"
   ]
  },
  {
   "cell_type": "code",
   "execution_count": 78,
   "metadata": {},
   "outputs": [
    {
     "name": "stdout",
     "output_type": "stream",
     "text": [
      "cpython\n"
     ]
    }
   ],
   "source": [
    "import sys\n",
    "\n",
    "print(sys.implementation.name)\n"
   ]
  }
 ],
 "metadata": {
  "kernelspec": {
   "display_name": ".venv",
   "language": "python",
   "name": "python3"
  },
  "language_info": {
   "codemirror_mode": {
    "name": "ipython",
    "version": 3
   },
   "file_extension": ".py",
   "mimetype": "text/x-python",
   "name": "python",
   "nbconvert_exporter": "python",
   "pygments_lexer": "ipython3",
   "version": "3.12.8"
  }
 },
 "nbformat": 4,
 "nbformat_minor": 2
}

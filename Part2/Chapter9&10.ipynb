{
 "cells": [
  {
   "cell_type": "markdown",
   "metadata": {},
   "source": [
    "### <b>Chapter 9: Comparisons, Masks, and Boolean Logic</b>"
   ]
  },
  {
   "cell_type": "code",
   "execution_count": 2,
   "metadata": {},
   "outputs": [
    {
     "name": "stdout",
     "output_type": "stream",
     "text": [
      "(365,)\n",
      "365\n"
     ]
    }
   ],
   "source": [
    "import numpy as np\n",
    "import pandas as pd\n",
    "rainfall_mm = pd.read_csv('../data/Seattle2014.csv')['PRCP'].values\n",
    "rainfall_mm\n",
    "rainfall_inches = rainfall_mm/ 25.4 # 1/10mm -> inches\n",
    "print(rainfall_mm.shape)\n",
    "print(len(rainfall_mm))"
   ]
  },
  {
   "cell_type": "code",
   "execution_count": 3,
   "metadata": {},
   "outputs": [],
   "source": [
    "%matplotlib inline\n",
    "import matplotlib.pyplot as plt\n",
    "plt.style.use('seaborn-v0_8-whitegrid')"
   ]
  },
  {
   "cell_type": "code",
   "execution_count": 4,
   "metadata": {},
   "outputs": [
    {
     "data": {
      "image/png": "[encoded data removed]",
      "text/plain": [
       "<Figure size 640x480 with 1 Axes>"
      ]
     },
     "metadata": {},
     "output_type": "display_data"
    }
   ],
   "source": [
    "plt.hist(rainfall_mm, 40); #The number 40 specifies the number of bins (intervals) in the histogram."
   ]
  },
  {
   "cell_type": "code",
   "execution_count": 5,
   "metadata": {},
   "outputs": [
    {
     "name": "stdout",
     "output_type": "stream",
     "text": [
      "[  0  41  15   0   0   3 122  97  58  43 213  15   0   0   0   0   0   0\n",
      "   0   0   0   5   0   0   0   0   0  89 216   0  23  20   0   0   0   0\n",
      "   0   0  51   5 183 170  46  18  94 117 264 145 152  10  30  28  25  61\n",
      " 130   3   0   0   0   5 191 107 165 467  30   0 323  43 188   0   0   5\n",
      "  69  81 277   3   0   5   0   0   0   0   0  41  36   3 221 140   0   0\n",
      "   0   0  25   0  46   0   0  46   0   0   0   0   0   0   5 109 185   0\n",
      " 137   0  51 142  89 124   0  33  69   0   0   0   0   0 333 160  51   0\n",
      "   0 137  20   5   0   0   0   0   0   0   0   0   0   0   0   0  38   0\n",
      "  56   0   0   0   0   0   0   0   0   0   0   0   0   0   0   0   0   0\n",
      "  18  64   0   5  36  13   0   8   3   0   0   0   0   0   0  18  23   0\n",
      "   0   0   0   0   0   0   0   0   0   0   0   0   0   0   0   0   0   0\n",
      "   0   0   0   0   3 193   0   0   0   0   0   0   0   0   0   5   0   0\n",
      "   0   0   0   0   0   0   5 127 216   0  10   0   0   0   0   0   0   0\n",
      "   0   0   0   0   0   0   0  84  13   0  30   0   0   0   0   0   0   0\n",
      "   0   0   0   0   0   0   0   5   3   0   0   0   3 183 203  43  89   0\n",
      "   0   8   0   0   0   0   0   0   0   0   0   0   3  74   0  76  71  86\n",
      "   0  33 150   0 117  10 320  94  41  61  15   8 127   5 254 170   0  18\n",
      " 109  41  48  41   0   0  51   0   0   0   0   0   0   0   0   0   0  36\n",
      " 152   5 119  13 183   3  33 343  36   0   0   0   0   8  30  74   0  91\n",
      "  99 130  69   0   0   0   0   0  28 130  30 196   0   0 206  53   0   0\n",
      "  33  41   0   0   0]\n"
     ]
    }
   ],
   "source": [
    "print(rainfall_mm)"
   ]
  },
  {
   "cell_type": "code",
   "execution_count": 6,
   "metadata": {},
   "outputs": [
    {
     "name": "stdout",
     "output_type": "stream",
     "text": [
      "47\n"
     ]
    }
   ],
   "source": [
    "print(np.sum(rainfall_mm > 100, axis=0))"
   ]
  },
  {
   "cell_type": "code",
   "execution_count": 7,
   "metadata": {},
   "outputs": [
    {
     "data": {
      "text/plain": [
       "16"
      ]
     },
     "execution_count": 7,
     "metadata": {},
     "output_type": "execute_result"
    }
   ],
   "source": [
    "np.sum((rainfall_inches > 0.5) & (rainfall_inches < 1))"
   ]
  },
  {
   "cell_type": "code",
   "execution_count": 8,
   "metadata": {},
   "outputs": [
    {
     "name": "stdout",
     "output_type": "stream",
     "text": [
      "Number days without rain: 215\n"
     ]
    }
   ],
   "source": [
    "print(\"Number days without rain:\" , np.sum(rainfall_mm ==0))"
   ]
  },
  {
   "cell_type": "code",
   "execution_count": 9,
   "metadata": {},
   "outputs": [
    {
     "name": "stdout",
     "output_type": "stream",
     "text": [
      "Number days with rain:  150\n"
     ]
    }
   ],
   "source": [
    "print(\"Number days with rain: \", np.sum(rainfall_mm != 0))"
   ]
  },
  {
   "cell_type": "code",
   "execution_count": 10,
   "metadata": {},
   "outputs": [
    {
     "name": "stdout",
     "output_type": "stream",
     "text": [
      "[ True  True  True  True  True  True False  True  True  True False  True\n",
      "  True  True  True  True  True  True  True  True  True  True  True  True\n",
      "  True  True  True  True False  True  True  True  True  True  True  True\n",
      "  True  True  True  True False False  True  True  True False False False\n",
      " False  True  True  True  True  True False  True  True  True  True  True\n",
      " False False False False  True  True False  True False  True  True  True\n",
      "  True  True False  True  True  True  True  True  True  True  True  True\n",
      "  True  True False False  True  True  True  True  True  True  True  True\n",
      "  True  True  True  True  True  True  True  True  True False False  True\n",
      " False  True  True False  True False  True  True  True  True  True  True\n",
      "  True  True False False  True  True  True False  True  True  True  True\n",
      "  True  True  True  True  True  True  True  True  True  True  True  True\n",
      "  True  True  True  True  True  True  True  True  True  True  True  True\n",
      "  True  True  True  True  True  True  True  True  True  True  True  True\n",
      "  True  True  True  True  True  True  True  True  True  True  True  True\n",
      "  True  True  True  True  True  True  True  True  True  True  True  True\n",
      "  True  True  True  True  True  True  True  True  True  True  True False\n",
      "  True  True  True  True  True  True  True  True  True  True  True  True\n",
      "  True  True  True  True  True  True  True False False  True  True  True\n",
      "  True  True  True  True  True  True  True  True  True  True  True  True\n",
      "  True  True  True  True  True  True  True  True  True  True  True  True\n",
      "  True  True  True  True  True  True  True  True  True  True  True  True\n",
      "  True False False  True  True  True  True  True  True  True  True  True\n",
      "  True  True  True  True  True  True  True  True  True  True  True  True\n",
      "  True  True False  True False  True False  True  True  True  True  True\n",
      " False  True False False  True  True False  True  True  True  True  True\n",
      "  True  True  True  True  True  True  True  True  True  True  True  True\n",
      " False  True False  True False  True  True False  True  True  True  True\n",
      "  True  True  True  True  True  True  True False  True  True  True  True\n",
      "  True  True  True False  True False  True  True False  True  True  True\n",
      "  True  True  True  True  True]\n"
     ]
    }
   ],
   "source": [
    "print(rainfall_mm < 100)"
   ]
  },
  {
   "cell_type": "code",
   "execution_count": 11,
   "metadata": {},
   "outputs": [
    {
     "data": {
      "text/plain": [
       "array([41, 15,  3, 97, 58, 43, 15,  5, 89, 23, 20, 51,  5, 46, 18, 94, 10,\n",
       "       30, 28, 25, 61,  3,  5, 30, 43,  5, 69, 81,  3,  5, 41, 36,  3, 25,\n",
       "       46, 46,  5, 51, 89, 33, 69, 51, 20,  5, 38, 56, 18, 64,  5, 36, 13,\n",
       "        8,  3, 18, 23,  3,  5,  5, 10, 84, 13, 30,  5,  3,  3, 43, 89,  8,\n",
       "        3, 74, 76, 71, 86, 33, 10, 94, 41, 61, 15,  8,  5, 18, 41, 48, 41,\n",
       "       51, 36,  5, 13,  3, 33, 36,  8, 30, 74, 91, 99, 69, 28, 30, 53, 33,\n",
       "       41], dtype=int64)"
      ]
     },
     "execution_count": 11,
     "metadata": {},
     "output_type": "execute_result"
    }
   ],
   "source": [
    "rainfall_mm[ (rainfall_mm>0) & (rainfall_mm < 100)]"
   ]
  },
  {
   "cell_type": "code",
   "execution_count": 12,
   "metadata": {},
   "outputs": [
    {
     "name": "stdout",
     "output_type": "stream",
     "text": [
      "(365,)\n"
     ]
    }
   ],
   "source": [
    "rainy_days = rainfall_mm>0\n",
    "print(rainy_days.shape)"
   ]
  },
  {
   "cell_type": "code",
   "execution_count": 13,
   "metadata": {},
   "outputs": [
    {
     "name": "stdout",
     "output_type": "stream",
     "text": [
      "[False False False False False False False False False False False False\n",
      " False False  True  True  True  True  True  True  True  True  True  True\n",
      "  True  True  True False False False]\n",
      "1\n",
      "(30,)\n",
      "30\n"
     ]
    }
   ],
   "source": [
    "days = np.arange(30)\n",
    "summer = (days > 13) & (days < 27)\n",
    "print(summer)\n",
    "print(summer.ndim)\n",
    "print(summer.shape)\n",
    "print(summer.size)"
   ]
  },
  {
   "cell_type": "code",
   "execution_count": 14,
   "metadata": {},
   "outputs": [
    {
     "name": "stdout",
     "output_type": "stream",
     "text": [
      "[[9 4 0 3]\n",
      " [8 6 3 1]\n",
      " [3 7 4 0]]\n",
      "[[False  True  True  True]\n",
      " [False False  True  True]\n",
      " [ True False  True  True]]\n"
     ]
    }
   ],
   "source": [
    "rng = np.random.default_rng(seed=1701)\n",
    "x = rng.integers(10, size=(3, 4))\n",
    "print(x)\n",
    "print(x < 6)"
   ]
  },
  {
   "cell_type": "code",
   "execution_count": 15,
   "metadata": {},
   "outputs": [],
   "source": [
    "# x=np.array([1,2,3,4])\n",
    "# # It is also possible to do an element-by-element comparison of two arrays, and to include compound expressions:\n",
    "# (2 * x) == (x ** 2)\n",
    "#output: array([False,  True, False, False])"
   ]
  },
  {
   "cell_type": "code",
   "execution_count": 16,
   "metadata": {},
   "outputs": [
    {
     "data": {
      "text/plain": [
       "8"
      ]
     },
     "execution_count": 16,
     "metadata": {},
     "output_type": "execute_result"
    }
   ],
   "source": [
    "np.count_nonzero(x<6)"
   ]
  },
  {
   "cell_type": "code",
   "execution_count": 17,
   "metadata": {},
   "outputs": [
    {
     "data": {
      "text/plain": [
       "48"
      ]
     },
     "execution_count": 17,
     "metadata": {},
     "output_type": "execute_result"
    }
   ],
   "source": [
    "np.sum(x)"
   ]
  },
  {
   "cell_type": "code",
   "execution_count": 18,
   "metadata": {},
   "outputs": [
    {
     "data": {
      "text/plain": [
       "array([16, 18, 14], dtype=int64)"
      ]
     },
     "execution_count": 18,
     "metadata": {},
     "output_type": "execute_result"
    }
   ],
   "source": [
    "np.sum(x, axis = 0) #output: array([20, 17,  7,  4], dtype=int64)\n",
    "np.sum(x, axis = 1) #output: array([16, 18, 14], dtype=int64)"
   ]
  },
  {
   "cell_type": "code",
   "execution_count": 19,
   "metadata": {},
   "outputs": [
    {
     "name": "stdout",
     "output_type": "stream",
     "text": [
      "[[False  True  True  True]\n",
      " [False False  True  True]\n",
      " [ True False  True  True]]\n",
      "[4 0 3 3 1 3 4 0]\n"
     ]
    }
   ],
   "source": [
    "np.sum(x < 6)\n",
    "y = x < 6\n",
    "print(y)\n",
    "print(x[y])"
   ]
  },
  {
   "cell_type": "code",
   "execution_count": 20,
   "metadata": {},
   "outputs": [
    {
     "data": {
      "text/plain": [
       "True"
      ]
     },
     "execution_count": 20,
     "metadata": {},
     "output_type": "execute_result"
    }
   ],
   "source": [
    "bool(4)"
   ]
  },
  {
   "cell_type": "code",
   "execution_count": 21,
   "metadata": {},
   "outputs": [
    {
     "data": {
      "text/plain": [
       "59"
      ]
     },
     "execution_count": 21,
     "metadata": {},
     "output_type": "execute_result"
    }
   ],
   "source": [
    "42 and 59"
   ]
  },
  {
   "cell_type": "code",
   "execution_count": 22,
   "metadata": {},
   "outputs": [
    {
     "data": {
      "text/plain": [
       "'hgggh'"
      ]
     },
     "execution_count": 22,
     "metadata": {},
     "output_type": "execute_result"
    }
   ],
   "source": [
    "\"jhb\" and \"hgggh\""
   ]
  },
  {
   "cell_type": "code",
   "execution_count": 23,
   "metadata": {},
   "outputs": [
    {
     "data": {
      "text/plain": [
       "array([1, 2, 3, 4, 5, 6, 7, 8, 9])"
      ]
     },
     "execution_count": 23,
     "metadata": {},
     "output_type": "execute_result"
    }
   ],
   "source": [
    "t = np.arange(1,10)\n",
    "t"
   ]
  },
  {
   "cell_type": "code",
   "execution_count": 24,
   "metadata": {},
   "outputs": [
    {
     "data": {
      "text/plain": [
       "array([3, 4, 5, 6])"
      ]
     },
     "execution_count": 24,
     "metadata": {},
     "output_type": "execute_result"
    }
   ],
   "source": [
    "t[2:6]"
   ]
  },
  {
   "cell_type": "code",
   "execution_count": 25,
   "metadata": {},
   "outputs": [
    {
     "name": "stdout",
     "output_type": "stream",
     "text": [
      "[1 4]\n"
     ]
    }
   ],
   "source": [
    "y = np.array([1, 4])\n",
    "print(y)"
   ]
  },
  {
   "cell_type": "code",
   "execution_count": 26,
   "metadata": {},
   "outputs": [
    {
     "name": "stdout",
     "output_type": "stream",
     "text": [
      "[[1]\n",
      " [4]]\n"
     ]
    }
   ],
   "source": [
    "t = y[:, np.newaxis]\n",
    "y.shape\n",
    "t.shape\n",
    "print(t)"
   ]
  },
  {
   "cell_type": "code",
   "execution_count": 27,
   "metadata": {},
   "outputs": [
    {
     "name": "stdout",
     "output_type": "stream",
     "text": [
      "[[0]\n",
      " [1]\n",
      " [2]]\n"
     ]
    }
   ],
   "source": [
    "row = np.array([0, 1, 2])\n",
    "row[:, np.newaxis].shape\n",
    "print(row[:, np.newaxis])"
   ]
  },
  {
   "cell_type": "code",
   "execution_count": 28,
   "metadata": {},
   "outputs": [
    {
     "data": {
      "text/plain": [
       "array([0, 1, 2])"
      ]
     },
     "execution_count": 28,
     "metadata": {},
     "output_type": "execute_result"
    }
   ],
   "source": [
    "w = np.arange(3)\n",
    "w"
   ]
  },
  {
   "cell_type": "code",
   "execution_count": 29,
   "metadata": {},
   "outputs": [],
   "source": [
    "c = w.reshape(1, 3)"
   ]
  },
  {
   "cell_type": "code",
   "execution_count": 30,
   "metadata": {},
   "outputs": [
    {
     "name": "stdout",
     "output_type": "stream",
     "text": [
      "[[ 0  1  2]\n",
      " [ 3  4  5]\n",
      " [ 6  7  8]\n",
      " [ 9 10 11]]\n"
     ]
    }
   ],
   "source": [
    "w = np.arange(12)\n",
    "c = w.reshape(4,3)\n",
    "print(c)"
   ]
  },
  {
   "cell_type": "code",
   "execution_count": 31,
   "metadata": {},
   "outputs": [
    {
     "data": {
      "text/plain": [
       "array([[ 3,  4,  5],\n",
       "       [ 9, 10, 11]])"
      ]
     },
     "execution_count": 31,
     "metadata": {},
     "output_type": "execute_result"
    }
   ],
   "source": [
    "a = indices =np.array([1,3])\n",
    "c[a]"
   ]
  },
  {
   "cell_type": "code",
   "execution_count": 32,
   "metadata": {},
   "outputs": [
    {
     "data": {
      "text/plain": [
       "(100, 2)"
      ]
     },
     "execution_count": 32,
     "metadata": {},
     "output_type": "execute_result"
    }
   ],
   "source": [
    "rng = np.random.default_rng(seed=1701)\n",
    "\n",
    "mean = [0, 0]\n",
    "cov = [[1, 2],\n",
    "[2, 5]]\n",
    "X = rng.multivariate_normal(mean, cov, 100)\n",
    "X.shape"
   ]
  },
  {
   "cell_type": "code",
   "execution_count": 33,
   "metadata": {},
   "outputs": [
    {
     "data": {
      "image/png": "[encoded data removed]",
      "text/plain": [
       "<Figure size 640x480 with 1 Axes>"
      ]
     },
     "metadata": {},
     "output_type": "display_data"
    }
   ],
   "source": [
    "%matplotlib inline\n",
    "import matplotlib.pyplot as plt\n",
    "plt.style.use('seaborn-v0_8-whitegrid')\n",
    "plt.scatter(X[:, 0], X[:, 1]);"
   ]
  },
  {
   "cell_type": "code",
   "execution_count": 34,
   "metadata": {},
   "outputs": [
    {
     "data": {
      "text/plain": [
       "array([78, 13, 11, 66, 43,  7, 48, 19, 63, 84, 25, 40, 18, 32, 79, 70, 35,\n",
       "       69, 58, 95])"
      ]
     },
     "execution_count": 34,
     "metadata": {},
     "output_type": "execute_result"
    }
   ],
   "source": [
    "indices = np.random.choice(X.shape[0], 20, replace=False)\n",
    "indices"
   ]
  },
  {
   "cell_type": "code",
   "execution_count": 35,
   "metadata": {},
   "outputs": [
    {
     "data": {
      "text/plain": [
       "(20, 2)"
      ]
     },
     "execution_count": 35,
     "metadata": {},
     "output_type": "execute_result"
    }
   ],
   "source": [
    "selection = X[indices] # fancy indexing here\n",
    "selection.shape"
   ]
  },
  {
   "cell_type": "code",
   "execution_count": 36,
   "metadata": {},
   "outputs": [
    {
     "data": {
      "image/png": "[encoded data removed]",
      "text/plain": [
       "<Figure size 640x480 with 1 Axes>"
      ]
     },
     "metadata": {},
     "output_type": "display_data"
    }
   ],
   "source": [
    "plt.scatter(X[:, 0], X[:, 1], alpha=0.3)\n",
    "plt.scatter(selection[:, 0], selection[:, 1],\n",
    "facecolor='none', edgecolor='black', s=200);"
   ]
  },
  {
   "cell_type": "code",
   "execution_count": 37,
   "metadata": {},
   "outputs": [
    {
     "name": "stdout",
     "output_type": "stream",
     "text": [
      "[7. 0. 0. 0. 0. 0. 0. 0. 0. 0.]\n"
     ]
    }
   ],
   "source": [
    "p = np.zeros(10)\n",
    "p[[0, 0]] = [4, 7]\n",
    "print(p)"
   ]
  },
  {
   "cell_type": "code",
   "execution_count": 38,
   "metadata": {},
   "outputs": [
    {
     "data": {
      "image/png": "[encoded data removed]",
      "text/plain": [
       "<Figure size 640x480 with 1 Axes>"
      ]
     },
     "metadata": {},
     "output_type": "display_data"
    }
   ],
   "source": [
    "rng = np.random.default_rng(seed=1701)\n",
    "x = rng.normal(size=100)\n",
    "# compute a histogram by hand\n",
    "bins = np.linspace(-5, 5, 20)\n",
    "counts = np.zeros_like(bins)\n",
    "# find the appropriate bin for each x\n",
    "i = np.searchsorted(bins, x)\n",
    "# add 1 to each of these bins\n",
    "np.add.at(counts, i, 1)\n",
    "# plot the results\n",
    "# plt.plot(bins, counts, drawstyle='steps');\n",
    "\n",
    "\n",
    "plt.style.use('seaborn-v0_8-whitegrid')\n",
    "plt.hist(x, bins);\n"
   ]
  },
  {
   "cell_type": "code",
   "execution_count": 39,
   "metadata": {},
   "outputs": [
    {
     "data": {
      "image/png": "[encoded data removed]",
      "text/plain": [
       "<Figure size 1200x500 with 2 Axes>"
      ]
     },
     "metadata": {},
     "output_type": "display_data"
    }
   ],
   "source": [
    "import numpy as np\n",
    "import matplotlib.pyplot as plt\n",
    "\n",
    "# Generate random data\n",
    "rng = np.random.default_rng(seed=1701)\n",
    "x = rng.normal(size=100)\n",
    "\n",
    "# Define bins\n",
    "bins = np.linspace(-5, 5, 20)\n",
    "\n",
    "# Method 1: Using plt.hist() (Automatic Binning)\n",
    "plt.figure(figsize=(12, 5))\n",
    "\n",
    "plt.subplot(1, 2, 1)\n",
    "plt.hist(x, bins=bins, edgecolor='red', alpha=0.7)\n",
    "plt.title(\"Histogram using plt.hist()\")\n",
    "plt.xlabel(\"Value\")\n",
    "plt.ylabel(\"Count\")\n",
    "\n",
    "# Manual Binning Process\n",
    "counts = np.zeros_like(bins)  # Initialize bin counts\n",
    "i = np.searchsorted(bins, x)  # Find bin indices for each value\n",
    "np.add.at(counts, i, 1)  # Increment bin counts\n",
    "\n",
    "# Plot manual histogram with step style\n",
    "plt.subplot(1, 2, 2)\n",
    "plt.plot(bins, counts, drawstyle='steps-mid', color='red', lw=2)\n",
    "plt.scatter(bins[i], np.full_like(i, 0), marker=\"x\", color=\"blue\", alpha=0.5)  # Show bin assignments\n",
    "plt.title(\"Manual Histogram using np.searchsorted()\")\n",
    "plt.xlabel(\"Value\")\n",
    "plt.ylabel(\"Count\")\n",
    "\n",
    "plt.show()\n"
   ]
  },
  {
   "cell_type": "code",
   "execution_count": 40,
   "metadata": {},
   "outputs": [
    {
     "data": {
      "text/plain": [
       "'\\nDifference:\\n\\nFirst plot: Normal histogram with bars.\\nSecond plot: Step-style histogram (no filled bars).\\n'"
      ]
     },
     "execution_count": 40,
     "metadata": {},
     "output_type": "execute_result"
    },
    {
     "data": {
      "image/png": "[encoded data removed]",
      "text/plain": [
       "<Figure size 640x480 with 2 Axes>"
      ]
     },
     "metadata": {},
     "output_type": "display_data"
    }
   ],
   "source": [
    "plt.subplot(2, 2, 1)\n",
    "plt.hist(x, bins); # Standard histogram\n",
    "\n",
    "plt.subplot(2, 2, 2)\n",
    "plt.hist(x, bins, histtype='step'); # Histogram with step-style outline\n",
    "\n",
    "'''\n",
    "Difference:\n",
    "\n",
    "First plot: Normal histogram with bars.\n",
    "Second plot: Step-style histogram (no filled bars).\n",
    "'''"
   ]
  },
  {
   "cell_type": "code",
   "execution_count": 41,
   "metadata": {},
   "outputs": [
    {
     "name": "stdout",
     "output_type": "stream",
     "text": [
      "[ 0.43874206  0.32818515  0.68328838 -0.81928256  0.69156442 -1.62453268\n",
      "  1.50806312 -1.22449846  1.22696072 -1.05013046  0.62509363  0.09693023\n",
      "  0.62776415 -0.28565182  1.49678665 -0.76768541 -0.3942867  -1.35693505\n",
      "  0.33524959  0.57442768  1.62016911  0.33395176 -1.02906713 -0.94266623\n",
      "  0.38365532  0.25423793  1.36108696  1.25474959 -0.05637126  0.44880896\n",
      " -1.47909513  2.40254455 -0.06959272 -1.52752832  1.93633419 -1.28006351\n",
      " -0.71562065  0.72455605  0.47362789 -0.33131697  0.26272942  1.75038031\n",
      "  0.01834221 -1.43899931  1.3716487   0.67679557  0.53793618  1.53399445\n",
      "  0.28214872  0.56313954 -0.37793941 -1.15832253  0.96594187 -0.35611958\n",
      " -1.28536874  0.19742658  0.41682623 -0.95386364  0.75830441 -2.08596882\n",
      " -1.16203473  0.34232684 -1.11888193 -1.13596     0.6742499   1.26767704\n",
      "  0.65873509 -0.64003051  3.09160717  0.51595829  0.61122253 -0.01723733\n",
      "  0.3037547   0.48345155  1.31693828  0.11558915 -1.71886929 -0.98511272\n",
      "  0.42671049  0.54159558 -1.40923638 -0.38289913 -0.36361407  0.51818448\n",
      "  0.98517332 -0.28010458  0.48822092  1.18871415  2.35468027 -0.50254828\n",
      "  0.72586398  0.82359641  0.12582911 -0.96702245  0.16762368 -0.25626375\n",
      " -0.77984442  0.73111879 -0.90911587  2.5795842 ]\n"
     ]
    },
    {
     "data": {
      "image/png": "[encoded data removed]",
      "text/plain": [
       "<Figure size 1000x500 with 2 Axes>"
      ]
     },
     "metadata": {},
     "output_type": "display_data"
    }
   ],
   "source": [
    "import numpy as np\n",
    "import matplotlib.pyplot as plt\n",
    "\n",
    "# Generate random data\n",
    "rng = np.random.default_rng(seed=1701)\n",
    "x = rng.normal(size=100)\n",
    "print(x)\n",
    "# Define bins\n",
    "bins = np.linspace(-5, 5, 20)\n",
    "\n",
    "# Compute histogram manually\n",
    "counts, bin_edges = np.histogram(x, bins)\n",
    "\n",
    "# Create subplot layout\n",
    "plt.figure(figsize=(10, 5))\n",
    "\n",
    "# First plot: Standard histogram\n",
    "plt.subplot(2, 2, 1)\n",
    "plt.hist(x, bins, edgecolor='black', alpha=0.7)\n",
    "plt.title(\"Using plt.hist()\")\n",
    "\n",
    "# Second plot: Using np.histogram()\n",
    "plt.subplot(2, 2, 2)\n",
    "plt.plot(bin_edges[:-1], counts, drawstyle='steps-mid', color='red', lw=1) #We remove the last edge (because 'counts' has one less element than bin_edges).\n",
    "# color='red' and lw=1: Set the color to red and make the line width thicker.\n",
    "\n",
    "plt.title(\"Using np.histogram() + plt.plot()\")\n",
    "\n",
    "plt.show()\n"
   ]
  },
  {
   "cell_type": "code",
   "execution_count": 42,
   "metadata": {},
   "outputs": [
    {
     "name": "stdout",
     "output_type": "stream",
     "text": [
      "NumPy histogram (100 points):\n",
      "45.8 μs ± 12.5 μs per loop (mean ± std. dev. of 7 runs, 10,000 loops each)\n",
      "Custom histogram (100 points):\n",
      "22.4 μs ± 1.84 μs per loop (mean ± std. dev. of 7 runs, 10,000 loops each)\n"
     ]
    }
   ],
   "source": [
    "print(f\"NumPy histogram ({len(x)} points):\")\n",
    "%timeit counts, edges = np.histogram(x, bins)\n",
    "print(f\"Custom histogram ({len(x)} points):\")\n",
    "%timeit np.add.at(counts, np.searchsorted(bins, x), 1)"
   ]
  },
  {
   "cell_type": "code",
   "execution_count": null,
   "metadata": {},
   "outputs": [],
   "source": []
  }
 ],
 "metadata": {
  "kernelspec": {
   "display_name": ".venv",
   "language": "python",
   "name": "python3"
  },
  "language_info": {
   "codemirror_mode": {
    "name": "ipython",
    "version": 3
   },
   "file_extension": ".py",
   "mimetype": "text/x-python",
   "name": "python",
   "nbconvert_exporter": "python",
   "pygments_lexer": "ipython3",
   "version": "3.12.8"
  }
 },
 "nbformat": 4,
 "nbformat_minor": 2
}

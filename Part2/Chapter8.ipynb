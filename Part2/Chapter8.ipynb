{
 "cells": [
  {
   "cell_type": "markdown",
   "metadata": {
    "vscode": {
     "languageId": "plaintext"
    }
   },
   "source": [
    "### <b>Chapter 8: Computation on Arrays: Broadcasting</b>"
   ]
  },
  {
   "cell_type": "code",
   "execution_count": 116,
   "metadata": {},
   "outputs": [
    {
     "name": "stdout",
     "output_type": "stream",
     "text": [
      "1\n"
     ]
    },
    {
     "data": {
      "text/plain": [
       "array([5, 6, 7])"
      ]
     },
     "execution_count": 116,
     "metadata": {},
     "output_type": "execute_result"
    }
   ],
   "source": [
    "import numpy as np\n",
    "a = np.array([0, 1, 2]) #1D\n",
    "print(a.ndim)\n",
    "b = np.array([5, 5, 5]) #1D\n",
    "a + b"
   ]
  },
  {
   "cell_type": "code",
   "execution_count": 117,
   "metadata": {},
   "outputs": [
    {
     "data": {
      "text/plain": [
       "array([5, 6, 7])"
      ]
     },
     "execution_count": 117,
     "metadata": {},
     "output_type": "execute_result"
    }
   ],
   "source": [
    "a + 5"
   ]
  },
  {
   "cell_type": "code",
   "execution_count": 118,
   "metadata": {},
   "outputs": [
    {
     "name": "stdout",
     "output_type": "stream",
     "text": [
      "1\n",
      "[7 8 9]\n"
     ]
    }
   ],
   "source": [
    "c = np.array([7])\n",
    "print(c.ndim)\n",
    "print(c + a)\n",
    "m = 5\n"
   ]
  },
  {
   "cell_type": "code",
   "execution_count": 119,
   "metadata": {},
   "outputs": [
    {
     "name": "stdout",
     "output_type": "stream",
     "text": [
      "[1 2 3]\n"
     ]
    }
   ],
   "source": [
    "x = np.array([1, 2, 3])\n",
    "print(x)"
   ]
  },
  {
   "cell_type": "code",
   "execution_count": 120,
   "metadata": {},
   "outputs": [
    {
     "name": "stdout",
     "output_type": "stream",
     "text": [
      "[[1 2 3]]\n",
      "[[1 2 3]]\n"
     ]
    }
   ],
   "source": [
    "print(x.reshape((1, 3)))\n",
    "print(x[np.newaxis, :])"
   ]
  },
  {
   "cell_type": "code",
   "execution_count": 121,
   "metadata": {},
   "outputs": [
    {
     "name": "stdout",
     "output_type": "stream",
     "text": [
      "[[1]\n",
      " [2]\n",
      " [3]]\n",
      "[[1]\n",
      " [2]\n",
      " [3]]\n"
     ]
    }
   ],
   "source": [
    "print(x.reshape((3, 1)))\n",
    "print(x[:, np.newaxis])"
   ]
  },
  {
   "cell_type": "code",
   "execution_count": 122,
   "metadata": {},
   "outputs": [
    {
     "name": "stdout",
     "output_type": "stream",
     "text": [
      "[0 1 2]\n",
      "\n",
      "[[0]\n",
      " [1]\n",
      " [2]]\n",
      "\n",
      "[[0 1 2]\n",
      " [1 2 3]\n",
      " [2 3 4]]\n",
      "2\n"
     ]
    }
   ],
   "source": [
    "a = np.arange(3)\n",
    "b = np.arange(3)[:, np.newaxis] # flip the axis vertically\n",
    "print(a, b, a+b, sep=\"\\n\\n\")\n",
    "print(b.ndim)"
   ]
  },
  {
   "cell_type": "code",
   "execution_count": 123,
   "metadata": {},
   "outputs": [
    {
     "name": "stdout",
     "output_type": "stream",
     "text": [
      "[[ 0  1  2  3]\n",
      " [ 4  5  6  7]\n",
      " [ 8  9 10 11]]\n"
     ]
    }
   ],
   "source": [
    "w = np.arange(12).reshape(3, 4)\n",
    "print(w)"
   ]
  },
  {
   "cell_type": "markdown",
   "metadata": {},
   "source": [
    "## NumPy Broadcasting Rules Explained with Examples"
   ]
  },
  {
   "cell_type": "markdown",
   "metadata": {},
   "source": [
    "<b>Rule 1: Padding with Ones on the Left</b>\n",
    "<br>\n",
    "📌 If the two arrays have a different number of dimensions, the smaller-dimensional array is padded with ones on the left until both shapes have the same number of dimensions.\n",
    "\n",
    "Example: (adding a two-dimensional array to a one-dimensional array)"
   ]
  },
  {
   "cell_type": "code",
   "execution_count": 62,
   "metadata": {},
   "outputs": [
    {
     "name": "stdout",
     "output_type": "stream",
     "text": [
      "[1 2 3]\n",
      "\n",
      "[[1]\n",
      " [2]\n",
      " [3]]\n",
      "\n",
      "[[2 3 4]\n",
      " [3 4 5]\n",
      " [4 5 6]]\n",
      "[[1 2 3]]\n"
     ]
    }
   ],
   "source": [
    "A = np.array([1, 2, 3]) # 1D array\n",
    "# print(A.shape)\n",
    "#output: (3,)\n",
    "\"\"\"\n",
    "The number 3: The array has 3 elements.\n",
    "The comma ,: It indicates that the array is one-dimensional.\n",
    "\"\"\"\n",
    "B = np.array([[1], [2], [3]])   # Shape: (3, 1) -> 2D array\n",
    "\n",
    "\"\"\"\n",
    "#output: \n",
    "[[1]\n",
    " [2]\n",
    " [3]]\n",
    "There are 3 rows (each containing a single element).\n",
    "There is only 1 column.\n",
    "\"\"\"\n",
    "C = A + B\n",
    "print(A, B, C, sep=\"\\n\\n\")\n",
    "print(A.reshape(1, 3))\n"
   ]
  },
  {
   "cell_type": "markdown",
   "metadata": {},
   "source": [
    "<b>Rule 2: Expanding Singleton Dimensions</b>\n",
    "<br>\n",
    "📌 If the shapes do not match in a particular dimension, but one of the arrays has size 1 in that dimension, NumPy expands it to match the other array’s size.\n",
    "\n",
    "Example 1:"
   ]
  },
  {
   "cell_type": "code",
   "execution_count": 51,
   "metadata": {},
   "outputs": [
    {
     "name": "stdout",
     "output_type": "stream",
     "text": [
      "[[1 2 3]\n",
      " [4 5 6]]\n",
      "\n",
      "[[10]\n",
      " [20]]\n",
      "\n",
      "[[11 12 13]\n",
      " [24 25 26]]\n"
     ]
    }
   ],
   "source": [
    "A = np.array([[1, 2, 3], [4, 5, 6]])  # Shape: (2, 3)\n",
    "B = np.array([[10], [20]])            # Shape: (2, 1)\n",
    "\n",
    "C = A + B  # Broadcasting applies here\n",
    "'''\n",
    "Before broadcasting:\n",
    "\n",
    "A: Shape (2,3)\n",
    "B: Shape (2,1)\n",
    "After broadcasting:\n",
    "\n",
    "B expands to shape (2,3) by replicating values along axis 1.\n",
    "'''\n",
    "print(A, B, C, sep=\"\\n\\n\") #B gets \"stretched\" to (2,3), and element-wise addition is performed."
   ]
  },
  {
   "cell_type": "markdown",
   "metadata": {},
   "source": [
    "<b>Rule 3: Mismatched Shapes Raise an Error</b>\n",
    "<br>\n",
    "📌 If in any dimension the sizes are different and neither is 1, broadcasting fails, and an error is raised.\n",
    "\n",
    "Example (Error Case):"
   ]
  },
  {
   "cell_type": "code",
   "execution_count": null,
   "metadata": {},
   "outputs": [],
   "source": [
    "A = np.array([[1, 2, 3], [4, 5, 6]])  # Shape: (2,3)\n",
    "B = np.array([10, 20])                # Shape: (2,)\n",
    "\n",
    "'''\n",
    "Why does it fail?\n",
    "\n",
    "A has shape (2,3), while B has shape (2,).\n",
    "NumPy tries to match (2,3) with (2,), but since B has no size 1 in the second dimension, it cannot be stretched.\n",
    "Since neither dimension is 1, broadcasting fails.\n",
    "'''\n",
    "C = A + B  # This will raise an error\n",
    "\n",
    "#ValueError: operands could not be broadcast together with shapes (2,3) (2,)\n",
    "\n",
    "#To fix this, reshape B to (2,1) or (1,3) so it can be broadcasted."
   ]
  },
  {
   "cell_type": "markdown",
   "metadata": {},
   "source": [
    "<b>More examples:</b>"
   ]
  },
  {
   "cell_type": "code",
   "execution_count": 65,
   "metadata": {},
   "outputs": [
    {
     "name": "stdout",
     "output_type": "stream",
     "text": [
      "[[1. 2. 3.]\n",
      " [1. 2. 3.]]\n",
      "[0 1 2]\n",
      "[[0 1 2]]\n",
      "[[1. 1. 1.]\n",
      " [1. 1. 1.]]\n"
     ]
    }
   ],
   "source": [
    "M = np.ones((2, 3)) #shape = (2, 3)\n",
    "a = np.arange(3) #shape = (3,)\n",
    "E = M + a\n",
    "print(E)\n",
    "print(a)\n",
    "print(a.reshape(1,3))\n",
    "print(M)"
   ]
  },
  {
   "cell_type": "code",
   "execution_count": 71,
   "metadata": {},
   "outputs": [
    {
     "name": "stdout",
     "output_type": "stream",
     "text": [
      "[0 1 2]\n",
      "[[1. 1.]\n",
      " [1. 1.]\n",
      " [1. 1.]]\n",
      "[[0]\n",
      " [1]\n",
      " [2]]\n",
      "[[1. 1.]\n",
      " [2. 2.]\n",
      " [3. 3.]]\n"
     ]
    }
   ],
   "source": [
    "M = np.ones((3, 2)) #shape = (3, 2)\n",
    "a = np.arange(3) #shape = (3,)\n",
    "# E = M + a  #ValueError: operands could not be broadcast together with shapes (3,2) (3,) \n",
    "# print(E)\n",
    "print(a)\n",
    "# print(a.reshape(1,3))\n",
    "print(M)\n",
    "p = a[:, np.newaxis]\n",
    "print(p)  # shape = (3, 1)\n",
    "i = p + M\n",
    "print(i)"
   ]
  },
  {
   "cell_type": "markdown",
   "metadata": {},
   "source": [
    "## Centering an Array"
   ]
  },
  {
   "cell_type": "code",
   "execution_count": 74,
   "metadata": {},
   "outputs": [
    {
     "name": "stdout",
     "output_type": "stream",
     "text": [
      "[[0.4020733  0.30563311 0.67668051]\n",
      " [0.15821208 0.79247763 0.09419469]\n",
      " [0.36753944 0.06388928 0.96431608]\n",
      " [0.35200998 0.54550343 0.88597945]\n",
      " [0.57016965 0.26614394 0.8170382 ]\n",
      " [0.55906652 0.06387035 0.84877751]\n",
      " [0.89414484 0.18920785 0.23660015]\n",
      " [0.16502896 0.56583856 0.29513111]\n",
      " [0.29078012 0.90079544 0.59992434]\n",
      " [0.09133896 0.00578466 0.97096222]]\n"
     ]
    }
   ],
   "source": [
    "rng = np.random.default_rng(seed=1701)\n",
    "X = rng.random((10, 3))\n",
    "print(X)"
   ]
  },
  {
   "cell_type": "code",
   "execution_count": 76,
   "metadata": {},
   "outputs": [
    {
     "name": "stdout",
     "output_type": "stream",
     "text": [
      "[0.38503638 0.36991443 0.63896043]\n"
     ]
    }
   ],
   "source": [
    "Xmean = X.mean(0)\n",
    "print(Xmean)"
   ]
  },
  {
   "cell_type": "code",
   "execution_count": 83,
   "metadata": {},
   "outputs": [
    {
     "data": {
      "text/plain": [
       "array([[ 0,  1,  2],\n",
       "       [ 3,  4,  5],\n",
       "       [ 6,  7,  8],\n",
       "       [ 9, 10, 11]])"
      ]
     },
     "execution_count": 83,
     "metadata": {},
     "output_type": "execute_result"
    }
   ],
   "source": [
    "kl = np.arange(12).reshape(4, 3)\n",
    "kl"
   ]
  },
  {
   "cell_type": "code",
   "execution_count": 87,
   "metadata": {},
   "outputs": [
    {
     "name": "stdout",
     "output_type": "stream",
     "text": [
      "[4.5 5.5 6.5]\n"
     ]
    }
   ],
   "source": [
    "klmean = kl.mean(0)\n",
    "print(klmean)"
   ]
  },
  {
   "cell_type": "code",
   "execution_count": 86,
   "metadata": {},
   "outputs": [
    {
     "name": "stdout",
     "output_type": "stream",
     "text": [
      "[ 1.  4.  7. 10.]\n"
     ]
    }
   ],
   "source": [
    "klmean1 = kl.mean(1)\n",
    "print(klmean1)"
   ]
  },
  {
   "cell_type": "code",
   "execution_count": 88,
   "metadata": {},
   "outputs": [
    {
     "name": "stdout",
     "output_type": "stream",
     "text": [
      "[[-4.5 -4.5 -4.5]\n",
      " [-1.5 -1.5 -1.5]\n",
      " [ 1.5  1.5  1.5]\n",
      " [ 4.5  4.5  4.5]]\n"
     ]
    }
   ],
   "source": [
    "kl_centered = kl - klmean\n",
    "print(kl_centered)"
   ]
  },
  {
   "cell_type": "code",
   "execution_count": 89,
   "metadata": {},
   "outputs": [
    {
     "data": {
      "text/plain": [
       "array([0., 0., 0.])"
      ]
     },
     "execution_count": 89,
     "metadata": {},
     "output_type": "execute_result"
    }
   ],
   "source": [
    "u = kl_centered.mean(0)\n",
    "u"
   ]
  },
  {
   "cell_type": "code",
   "execution_count": 114,
   "metadata": {},
   "outputs": [],
   "source": [
    "# x and y have 50 steps from 0 to 5\n",
    "x = np.linspace(0, 5, 50)\n",
    "y = np.linspace(0, 5, 50)[:, np.newaxis]\n",
    "z = np.sin(x) ** 10 + np.cos(100 + y * x) * np.cos(x)\n",
    "# z = np.sin(x) ** 2 + np.cos(y) ** 2"
   ]
  },
  {
   "cell_type": "code",
   "execution_count": 115,
   "metadata": {},
   "outputs": [
    {
     "data": {
      "image/png": "[encoded data removed]",
      "text/plain": [
       "<Figure size 640x480 with 2 Axes>"
      ]
     },
     "metadata": {},
     "output_type": "display_data"
    }
   ],
   "source": [
    "%matplotlib inline\n",
    "import matplotlib.pyplot as plt\n",
    "plt.imshow(z, origin='lower', extent=[0, 5, 0, 5])\n",
    "plt.colorbar();\n",
    "# print(x)"
   ]
  },
  {
   "cell_type": "code",
   "execution_count": null,
   "metadata": {},
   "outputs": [],
   "source": []
  }
 ],
 "metadata": {
  "kernelspec": {
   "display_name": ".venv",
   "language": "python",
   "name": "python3"
  },
  "language_info": {
   "codemirror_mode": {
    "name": "ipython",
    "version": 3
   },
   "file_extension": ".py",
   "mimetype": "text/x-python",
   "name": "python",
   "nbconvert_exporter": "python",
   "pygments_lexer": "ipython3",
   "version": "3.12.8"
  }
 },
 "nbformat": 4,
 "nbformat_minor": 2
}

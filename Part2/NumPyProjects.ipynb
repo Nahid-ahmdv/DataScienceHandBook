{
 "cells": [
  {
   "cell_type": "markdown",
   "metadata": {},
   "source": [
    "### <b>What Is the Average Height of US Presidents?</b>"
   ]
  },
  {
   "cell_type": "code",
   "execution_count": 22,
   "metadata": {},
   "outputs": [
    {
     "name": "stdout",
     "output_type": "stream",
     "text": [
      "   order               name  height(cm)\n",
      "0      1  George Washington         189\n",
      "1      2         John Adams         170\n",
      "2      3   Thomas Jefferson         189\n",
      "3      4      James Madison         163\n"
     ]
    }
   ],
   "source": [
    "import numpy as np\n",
    "import pandas as pd\n",
    "data = pd.read_csv('../data/president_heights.csv') #'..' tells Python to go up one level in the directory structure, from 'Part2' to 'DataScienceHandBook'.\n",
    "print(data.head(4))  # Display first 4 rows"
   ]
  },
  {
   "cell_type": "code",
   "execution_count": 23,
   "metadata": {},
   "outputs": [
    {
     "name": "stdout",
     "output_type": "stream",
     "text": [
      "[189 170 189 163 183 171 185 168 173 183 173 173 175 178 183 193 178 173\n",
      " 174 183 183 168 170 178 182 180 183 178 182 188 175 179 183 193 182 183\n",
      " 177 185 188 188 182 185]\n"
     ]
    }
   ],
   "source": [
    "heights = np.array(data['height(cm)'])\n",
    "names = np.array(data['name'])\n",
    "print(heights)"
   ]
  },
  {
   "cell_type": "code",
   "execution_count": 31,
   "metadata": {},
   "outputs": [
    {
     "name": "stdout",
     "output_type": "stream",
     "text": [
      "Mean height:  179.73809523809524\n",
      "Standard deviation: 6.931843442745892\n",
      "Minimum height:  163\n",
      "Maximum height:  193\n",
      "15\n",
      "Abraham Lincoln\n",
      "3\n",
      "James Madison\n",
      "42\n",
      "183\n"
     ]
    }
   ],
   "source": [
    "print(\"Mean height: \", np.mean(heights))\n",
    "print(\"Standard deviation:\", heights.std())\n",
    "print(\"Minimum height: \", heights.min())\n",
    "print(\"Maximum height: \", heights.max())\n",
    "print(heights.argmax())\n",
    "print(names[15])\n",
    "print(heights.argmin())\n",
    "print(names[3])\n",
    "print(len(heights))\n",
    "print(heights[20])"
   ]
  },
  {
   "cell_type": "code",
   "execution_count": 40,
   "metadata": {},
   "outputs": [
    {
     "name": "stdout",
     "output_type": "stream",
     "text": [
      "[163 168 168 170 170 171 173 173 173 173 174 175 175 177 178 178 178 178\n",
      " 179 180 182 182 182 182 183 183 183 183 183 183 183 183 185 185 185 188\n",
      " 188 188 189 189 193 193]\n",
      "1\n"
     ]
    }
   ],
   "source": [
    "sorted_heights = np.sort(heights)\n",
    "print(sorted_heights)\n",
    "print(int(1.6))"
   ]
  },
  {
   "cell_type": "code",
   "execution_count": 107,
   "metadata": {},
   "outputs": [
    {
     "name": "stdout",
     "output_type": "stream",
     "text": [
      "25th percentile:  174.25\n",
      "Median:  182.0\n",
      "50th percentile:  182.0\n",
      "75th percentile:  183.0\n"
     ]
    }
   ],
   "source": [
    "#computing quantiles:\n",
    "print(\"25th percentile: \", np.percentile(heights, 25))\n",
    "print(\"Median: \", np.median(heights))\n",
    "print(\"50th percentile: \", np.percentile(heights, 50))\n",
    "print(\"75th percentile: \", np.percentile(heights, 75))"
   ]
  },
  {
   "cell_type": "code",
   "execution_count": 75,
   "metadata": {},
   "outputs": [
    {
     "name": "stdout",
     "output_type": "stream",
     "text": [
      "25th Percentile (Q1) of odd data: 2.0\n",
      "25th Percentile (Q1) of even data: 2.5\n",
      "25th percentile:  3.5\n",
      "25th Percentile (Q1) of even data: 173.75\n"
     ]
    }
   ],
   "source": [
    "# Function to calculate the pth percentile (e.g., 25th percentile)\n",
    "def calculate_percentile(data, p):\n",
    "    sorted_data = sorted(data)  # Sort the data\n",
    "    n = len(sorted_data)\n",
    "    P = (p / 100) * (n + 1)  # Position of the percentile\n",
    "\n",
    "    if P.is_integer():\n",
    "        # If P is an integer, return the value at that position\n",
    "        return sorted_data[int(P) - 1]\n",
    "    else:\n",
    "        # Interpolate between the two nearest elements\n",
    "        lower = int(P) - 1\n",
    "        upper = lower + 1\n",
    "        weight = P - int(P)\n",
    "        return sorted_data[lower] + weight * (sorted_data[upper] - sorted_data[lower])\n",
    "\n",
    "# Example 1: Calculate the 25th percentile (Q1)\n",
    "data_odd = [1, 3, 5, 7, 9]\n",
    "percentile_25_odd = calculate_percentile(data_odd, 25)\n",
    "print(f\"25th Percentile (Q1) of odd data: {percentile_25_odd}\")\n",
    "\n",
    "# Example 2: Calculate the 25th percentile (Q1) for even data\n",
    "data_even = [1, 3, 5, 7, 9, 11]\n",
    "percentile_25_even = calculate_percentile(data_even, 25)\n",
    "print(f\"25th Percentile (Q1) of even data: {percentile_25_even}\")\n",
    "print(\"25th percentile: \", np.percentile(data_even, 25))\n",
    "percentile_25_even = calculate_percentile(sorted_heights, 25)\n",
    "print(f\"25th Percentile (Q1) of even data: {percentile_25_even}\")\n"
   ]
  },
  {
   "cell_type": "code",
   "execution_count": 81,
   "metadata": {},
   "outputs": [
    {
     "name": "stdout",
     "output_type": "stream",
     "text": [
      "['Solarize_Light2', '_classic_test_patch', '_mpl-gallery', '_mpl-gallery-nogrid', 'bmh', 'classic', 'dark_background', 'fast', 'fivethirtyeight', 'ggplot', 'grayscale', 'petroff10', 'seaborn-v0_8', 'seaborn-v0_8-bright', 'seaborn-v0_8-colorblind', 'seaborn-v0_8-dark', 'seaborn-v0_8-dark-palette', 'seaborn-v0_8-darkgrid', 'seaborn-v0_8-deep', 'seaborn-v0_8-muted', 'seaborn-v0_8-notebook', 'seaborn-v0_8-paper', 'seaborn-v0_8-pastel', 'seaborn-v0_8-poster', 'seaborn-v0_8-talk', 'seaborn-v0_8-ticks', 'seaborn-v0_8-white', 'seaborn-v0_8-whitegrid', 'tableau-colorblind10']\n"
     ]
    }
   ],
   "source": [
    "import matplotlib.pyplot as plt\n",
    "print(plt.style.available)\n"
   ]
  },
  {
   "cell_type": "code",
   "execution_count": 106,
   "metadata": {},
   "outputs": [
    {
     "data": {
      "text/plain": [
       "Text(0, 0.5, 'number')"
      ]
     },
     "execution_count": 106,
     "metadata": {},
     "output_type": "execute_result"
    },
    {
     "data": {
      "image/png": "[encoded data removed]",
      "text/plain": [
       "<Figure size 650x450 with 1 Axes>"
      ]
     },
     "metadata": {},
     "output_type": "display_data"
    }
   ],
   "source": [
    "%matplotlib inline  \n",
    "#This is a magic command specific to Jupyter Notebook. It ensures that plots generated with matplotlib are displayed inline (within the notebook) instead of opening in a separate window.\n",
    "\n",
    "import matplotlib.pyplot as plt #pyplot is the module in Matplotlib that provides functions to create and manipulate plots.\n",
    "plt.figure(figsize=(6.5, 4.5))  # Width=5 inches, Height=3 inches\n",
    "plt.style.use('seaborn-v0_8-whitegrid') #This sets the style of the plot using the \"seaborn-whitegrid\" theme. The Seaborn whitegrid style adds a subtle grid background, making it easier to interpret values in the graph.\n",
    "\n",
    "plt.hist(heights)\n",
    "'''\n",
    "This creates a histogram of the heights data.\n",
    "A histogram is used to show the frequency distribution of numerical values.\n",
    "It groups the heights data into bins and counts how many values fall into each bin.\n",
    "By default, Matplotlib decides the number of bins automatically, but it can be specified using bins= argument.\n",
    "'''\n",
    "plt.title('Height Distribution of US Presidents')\n",
    "plt.xlabel('height (cm)')\n",
    "plt.ylabel('number')"
   ]
  },
  {
   "cell_type": "code",
   "execution_count": null,
   "metadata": {},
   "outputs": [],
   "source": []
  }
 ],
 "metadata": {
  "kernelspec": {
   "display_name": ".venv",
   "language": "python",
   "name": "python3"
  },
  "language_info": {
   "codemirror_mode": {
    "name": "ipython",
    "version": 3
   },
   "file_extension": ".py",
   "mimetype": "text/x-python",
   "name": "python",
   "nbconvert_exporter": "python",
   "pygments_lexer": "ipython3",
   "version": "3.12.8"
  }
 },
 "nbformat": 4,
 "nbformat_minor": 2
}

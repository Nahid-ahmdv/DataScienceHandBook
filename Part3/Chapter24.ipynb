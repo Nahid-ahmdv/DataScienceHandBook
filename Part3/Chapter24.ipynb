{
 "cells": [
  {
   "cell_type": "markdown",
   "metadata": {},
   "source": [
    "# <b>High-Performance Pandas: eval and query</b>"
   ]
  },
  {
   "cell_type": "markdown",
   "metadata": {},
   "source": [
    "## <b>Motivating query and eval: Compound Expressions</b>"
   ]
  },
  {
   "cell_type": "code",
   "execution_count": 51,
   "metadata": {},
   "outputs": [
    {
     "name": "stdout",
     "output_type": "stream",
     "text": [
      "3.83 ms ± 318 μs per loop (mean ± std. dev. of 7 runs, 100 loops each)\n"
     ]
    }
   ],
   "source": [
    "import numpy as np\n",
    "rng = np.random.default_rng(42)\n",
    "x = rng.random(1000000)\n",
    "y = rng.random(1000000)\n",
    "%timeit x + y"
   ]
  },
  {
   "cell_type": "code",
   "execution_count": 52,
   "metadata": {},
   "outputs": [
    {
     "name": "stdout",
     "output_type": "stream",
     "text": [
      "281 ms ± 20.8 ms per loop (mean ± std. dev. of 7 runs, 1 loop each)\n"
     ]
    }
   ],
   "source": [
    "%timeit np.fromiter((xi + yi for xi, yi in zip(x, y)),dtype=x.dtype, count=len(x))"
   ]
  },
  {
   "cell_type": "code",
   "execution_count": 53,
   "metadata": {},
   "outputs": [
    {
     "data": {
      "text/plain": [
       "array([False, False,  True, ...,  True,  True,  True])"
      ]
     },
     "execution_count": 53,
     "metadata": {},
     "output_type": "execute_result"
    }
   ],
   "source": [
    "mask = (x > 0.5) & (y < 0.5)\n",
    "mask"
   ]
  },
  {
   "cell_type": "code",
   "execution_count": 54,
   "metadata": {},
   "outputs": [],
   "source": [
    "import numexpr\n",
    "# mask_numexpr = numexpr.evaluate('(x > 0.5) & (y < 0.5)')\n",
    "# np.all(mask == mask_numexpr)\n",
    "#output: True"
   ]
  },
  {
   "cell_type": "code",
   "execution_count": 55,
   "metadata": {},
   "outputs": [
    {
     "name": "stdout",
     "output_type": "stream",
     "text": [
      "3.05 ms ± 462 μs per loop (mean ± std. dev. of 7 runs, 100 loops each)\n",
      "6.46 ms ± 496 μs per loop (mean ± std. dev. of 7 runs, 100 loops each)\n"
     ]
    }
   ],
   "source": [
    "%timeit (x > 0.5) & (y < 0.5)\n",
    "%timeit numexpr.evaluate('(x > 0.5) & (y < 0.5)')"
   ]
  },
  {
   "cell_type": "code",
   "execution_count": 56,
   "metadata": {},
   "outputs": [
    {
     "name": "stdout",
     "output_type": "stream",
     "text": [
      "268 ms ± 27.2 ms per loop (mean ± std. dev. of 7 runs, 1 loop each)\n",
      "846 ms ± 376 ms per loop (mean ± std. dev. of 7 runs, 1 loop each)\n"
     ]
    }
   ],
   "source": [
    "x_big = rng.random(100_000_000)\n",
    "y_big = rng.random(100_000_000)\n",
    "\n",
    "%timeit (x_big > 0.5) & (y_big < 0.5)\n",
    "%timeit numexpr.evaluate('(x_big > 0.5) & (y_big < 0.5)')"
   ]
  },
  {
   "cell_type": "code",
   "execution_count": 57,
   "metadata": {},
   "outputs": [
    {
     "name": "stdout",
     "output_type": "stream",
     "text": [
      "4.76 s ± 2.86 s per loop (mean ± std. dev. of 7 runs, 1 loop each)\n",
      "1.3 s ± 183 ms per loop (mean ± std. dev. of 7 runs, 1 loop each)\n"
     ]
    }
   ],
   "source": [
    "%timeit np.sin(x_big) + np.cos(y_big) + x_big * y_big\n",
    "%timeit numexpr.evaluate('sin(x_big) + cos(y_big) + x_big * y_big')"
   ]
  },
  {
   "cell_type": "markdown",
   "metadata": {},
   "source": [
    "## <b>pandas.eval for Efficient Operations</b>"
   ]
  },
  {
   "cell_type": "code",
   "execution_count": 58,
   "metadata": {},
   "outputs": [
    {
     "data": {
      "text/html": [
       "<div>\n",
       "<style scoped>\n",
       "    .dataframe tbody tr th:only-of-type {\n",
       "        vertical-align: middle;\n",
       "    }\n",
       "\n",
       "    .dataframe tbody tr th {\n",
       "        vertical-align: top;\n",
       "    }\n",
       "\n",
       "    .dataframe thead th {\n",
       "        text-align: right;\n",
       "    }\n",
       "</style>\n",
       "<table border=\"1\" class=\"dataframe\">\n",
       "  <thead>\n",
       "    <tr style=\"text-align: right;\">\n",
       "      <th></th>\n",
       "      <th>0</th>\n",
       "      <th>1</th>\n",
       "      <th>2</th>\n",
       "      <th>3</th>\n",
       "      <th>4</th>\n",
       "      <th>5</th>\n",
       "      <th>6</th>\n",
       "      <th>7</th>\n",
       "      <th>8</th>\n",
       "      <th>9</th>\n",
       "      <th>...</th>\n",
       "      <th>90</th>\n",
       "      <th>91</th>\n",
       "      <th>92</th>\n",
       "      <th>93</th>\n",
       "      <th>94</th>\n",
       "      <th>95</th>\n",
       "      <th>96</th>\n",
       "      <th>97</th>\n",
       "      <th>98</th>\n",
       "      <th>99</th>\n",
       "    </tr>\n",
       "  </thead>\n",
       "  <tbody>\n",
       "    <tr>\n",
       "      <th>0</th>\n",
       "      <td>0.864304</td>\n",
       "      <td>0.994176</td>\n",
       "      <td>0.925138</td>\n",
       "      <td>0.589267</td>\n",
       "      <td>0.395323</td>\n",
       "      <td>0.898974</td>\n",
       "      <td>0.076748</td>\n",
       "      <td>0.881996</td>\n",
       "      <td>0.771740</td>\n",
       "      <td>0.918453</td>\n",
       "      <td>...</td>\n",
       "      <td>0.337325</td>\n",
       "      <td>0.027868</td>\n",
       "      <td>0.731685</td>\n",
       "      <td>0.651146</td>\n",
       "      <td>0.018243</td>\n",
       "      <td>0.797288</td>\n",
       "      <td>0.113844</td>\n",
       "      <td>0.325229</td>\n",
       "      <td>0.207676</td>\n",
       "      <td>0.914333</td>\n",
       "    </tr>\n",
       "    <tr>\n",
       "      <th>1</th>\n",
       "      <td>0.212896</td>\n",
       "      <td>0.216168</td>\n",
       "      <td>0.241444</td>\n",
       "      <td>0.700461</td>\n",
       "      <td>0.536945</td>\n",
       "      <td>0.322931</td>\n",
       "      <td>0.047400</td>\n",
       "      <td>0.687690</td>\n",
       "      <td>0.039041</td>\n",
       "      <td>0.607538</td>\n",
       "      <td>...</td>\n",
       "      <td>0.648092</td>\n",
       "      <td>0.857048</td>\n",
       "      <td>0.541596</td>\n",
       "      <td>0.005089</td>\n",
       "      <td>0.571168</td>\n",
       "      <td>0.381035</td>\n",
       "      <td>0.593158</td>\n",
       "      <td>0.415402</td>\n",
       "      <td>0.508927</td>\n",
       "      <td>0.874329</td>\n",
       "    </tr>\n",
       "    <tr>\n",
       "      <th>2</th>\n",
       "      <td>0.097849</td>\n",
       "      <td>0.596627</td>\n",
       "      <td>0.509653</td>\n",
       "      <td>0.675959</td>\n",
       "      <td>0.437531</td>\n",
       "      <td>0.154627</td>\n",
       "      <td>0.108378</td>\n",
       "      <td>0.205098</td>\n",
       "      <td>0.343155</td>\n",
       "      <td>0.996423</td>\n",
       "      <td>...</td>\n",
       "      <td>0.941251</td>\n",
       "      <td>0.627711</td>\n",
       "      <td>0.481594</td>\n",
       "      <td>0.012181</td>\n",
       "      <td>0.127897</td>\n",
       "      <td>0.680059</td>\n",
       "      <td>0.581453</td>\n",
       "      <td>0.177522</td>\n",
       "      <td>0.308676</td>\n",
       "      <td>0.417417</td>\n",
       "    </tr>\n",
       "    <tr>\n",
       "      <th>3</th>\n",
       "      <td>0.463539</td>\n",
       "      <td>0.895614</td>\n",
       "      <td>0.910606</td>\n",
       "      <td>0.216624</td>\n",
       "      <td>0.033773</td>\n",
       "      <td>0.382093</td>\n",
       "      <td>0.465512</td>\n",
       "      <td>0.675046</td>\n",
       "      <td>0.610316</td>\n",
       "      <td>0.069334</td>\n",
       "      <td>...</td>\n",
       "      <td>0.194444</td>\n",
       "      <td>0.937532</td>\n",
       "      <td>0.955805</td>\n",
       "      <td>0.195826</td>\n",
       "      <td>0.227486</td>\n",
       "      <td>0.988852</td>\n",
       "      <td>0.481580</td>\n",
       "      <td>0.051215</td>\n",
       "      <td>0.210700</td>\n",
       "      <td>0.164242</td>\n",
       "    </tr>\n",
       "    <tr>\n",
       "      <th>4</th>\n",
       "      <td>0.728646</td>\n",
       "      <td>0.416906</td>\n",
       "      <td>0.580005</td>\n",
       "      <td>0.650507</td>\n",
       "      <td>0.902602</td>\n",
       "      <td>0.955853</td>\n",
       "      <td>0.302167</td>\n",
       "      <td>0.368274</td>\n",
       "      <td>0.750120</td>\n",
       "      <td>0.069743</td>\n",
       "      <td>...</td>\n",
       "      <td>0.411232</td>\n",
       "      <td>0.197739</td>\n",
       "      <td>0.012801</td>\n",
       "      <td>0.815844</td>\n",
       "      <td>0.010336</td>\n",
       "      <td>0.725907</td>\n",
       "      <td>0.788061</td>\n",
       "      <td>0.677759</td>\n",
       "      <td>0.076500</td>\n",
       "      <td>0.656609</td>\n",
       "    </tr>\n",
       "    <tr>\n",
       "      <th>...</th>\n",
       "      <td>...</td>\n",
       "      <td>...</td>\n",
       "      <td>...</td>\n",
       "      <td>...</td>\n",
       "      <td>...</td>\n",
       "      <td>...</td>\n",
       "      <td>...</td>\n",
       "      <td>...</td>\n",
       "      <td>...</td>\n",
       "      <td>...</td>\n",
       "      <td>...</td>\n",
       "      <td>...</td>\n",
       "      <td>...</td>\n",
       "      <td>...</td>\n",
       "      <td>...</td>\n",
       "      <td>...</td>\n",
       "      <td>...</td>\n",
       "      <td>...</td>\n",
       "      <td>...</td>\n",
       "      <td>...</td>\n",
       "      <td>...</td>\n",
       "    </tr>\n",
       "    <tr>\n",
       "      <th>99995</th>\n",
       "      <td>0.929685</td>\n",
       "      <td>0.888725</td>\n",
       "      <td>0.794680</td>\n",
       "      <td>0.824149</td>\n",
       "      <td>0.993765</td>\n",
       "      <td>0.826668</td>\n",
       "      <td>0.334048</td>\n",
       "      <td>0.747966</td>\n",
       "      <td>0.367914</td>\n",
       "      <td>0.204277</td>\n",
       "      <td>...</td>\n",
       "      <td>0.258448</td>\n",
       "      <td>0.169234</td>\n",
       "      <td>0.865453</td>\n",
       "      <td>0.765889</td>\n",
       "      <td>0.955857</td>\n",
       "      <td>0.665990</td>\n",
       "      <td>0.846364</td>\n",
       "      <td>0.553839</td>\n",
       "      <td>0.426605</td>\n",
       "      <td>0.725445</td>\n",
       "    </tr>\n",
       "    <tr>\n",
       "      <th>99996</th>\n",
       "      <td>0.872481</td>\n",
       "      <td>0.514576</td>\n",
       "      <td>0.472775</td>\n",
       "      <td>0.840819</td>\n",
       "      <td>0.103963</td>\n",
       "      <td>0.570674</td>\n",
       "      <td>0.353627</td>\n",
       "      <td>0.776929</td>\n",
       "      <td>0.623622</td>\n",
       "      <td>0.888449</td>\n",
       "      <td>...</td>\n",
       "      <td>0.872222</td>\n",
       "      <td>0.558077</td>\n",
       "      <td>0.995347</td>\n",
       "      <td>0.061331</td>\n",
       "      <td>0.539346</td>\n",
       "      <td>0.103438</td>\n",
       "      <td>0.601383</td>\n",
       "      <td>0.694609</td>\n",
       "      <td>0.892246</td>\n",
       "      <td>0.178290</td>\n",
       "    </tr>\n",
       "    <tr>\n",
       "      <th>99997</th>\n",
       "      <td>0.505345</td>\n",
       "      <td>0.372089</td>\n",
       "      <td>0.491240</td>\n",
       "      <td>0.021446</td>\n",
       "      <td>0.436812</td>\n",
       "      <td>0.035385</td>\n",
       "      <td>0.277333</td>\n",
       "      <td>0.571239</td>\n",
       "      <td>0.257051</td>\n",
       "      <td>0.874096</td>\n",
       "      <td>...</td>\n",
       "      <td>0.327053</td>\n",
       "      <td>0.125249</td>\n",
       "      <td>0.563284</td>\n",
       "      <td>0.101264</td>\n",
       "      <td>0.507357</td>\n",
       "      <td>0.209379</td>\n",
       "      <td>0.533454</td>\n",
       "      <td>0.090097</td>\n",
       "      <td>0.160280</td>\n",
       "      <td>0.752975</td>\n",
       "    </tr>\n",
       "    <tr>\n",
       "      <th>99998</th>\n",
       "      <td>0.404638</td>\n",
       "      <td>0.311857</td>\n",
       "      <td>0.151602</td>\n",
       "      <td>0.906683</td>\n",
       "      <td>0.194243</td>\n",
       "      <td>0.994947</td>\n",
       "      <td>0.185744</td>\n",
       "      <td>0.726206</td>\n",
       "      <td>0.237058</td>\n",
       "      <td>0.174387</td>\n",
       "      <td>...</td>\n",
       "      <td>0.148056</td>\n",
       "      <td>0.636325</td>\n",
       "      <td>0.527506</td>\n",
       "      <td>0.029223</td>\n",
       "      <td>0.743040</td>\n",
       "      <td>0.952026</td>\n",
       "      <td>0.293487</td>\n",
       "      <td>0.175485</td>\n",
       "      <td>0.162583</td>\n",
       "      <td>0.998070</td>\n",
       "    </tr>\n",
       "    <tr>\n",
       "      <th>99999</th>\n",
       "      <td>0.117339</td>\n",
       "      <td>0.713043</td>\n",
       "      <td>0.320852</td>\n",
       "      <td>0.071826</td>\n",
       "      <td>0.180519</td>\n",
       "      <td>0.252118</td>\n",
       "      <td>0.951993</td>\n",
       "      <td>0.185138</td>\n",
       "      <td>0.152110</td>\n",
       "      <td>0.770085</td>\n",
       "      <td>...</td>\n",
       "      <td>0.818397</td>\n",
       "      <td>0.412847</td>\n",
       "      <td>0.682871</td>\n",
       "      <td>0.826072</td>\n",
       "      <td>0.125335</td>\n",
       "      <td>0.273251</td>\n",
       "      <td>0.009200</td>\n",
       "      <td>0.147224</td>\n",
       "      <td>0.434369</td>\n",
       "      <td>0.622757</td>\n",
       "    </tr>\n",
       "  </tbody>\n",
       "</table>\n",
       "<p>100000 rows × 100 columns</p>\n",
       "</div>"
      ],
      "text/plain": [
       "             0         1         2         3         4         5         6   \\\n",
       "0      0.864304  0.994176  0.925138  0.589267  0.395323  0.898974  0.076748   \n",
       "1      0.212896  0.216168  0.241444  0.700461  0.536945  0.322931  0.047400   \n",
       "2      0.097849  0.596627  0.509653  0.675959  0.437531  0.154627  0.108378   \n",
       "3      0.463539  0.895614  0.910606  0.216624  0.033773  0.382093  0.465512   \n",
       "4      0.728646  0.416906  0.580005  0.650507  0.902602  0.955853  0.302167   \n",
       "...         ...       ...       ...       ...       ...       ...       ...   \n",
       "99995  0.929685  0.888725  0.794680  0.824149  0.993765  0.826668  0.334048   \n",
       "99996  0.872481  0.514576  0.472775  0.840819  0.103963  0.570674  0.353627   \n",
       "99997  0.505345  0.372089  0.491240  0.021446  0.436812  0.035385  0.277333   \n",
       "99998  0.404638  0.311857  0.151602  0.906683  0.194243  0.994947  0.185744   \n",
       "99999  0.117339  0.713043  0.320852  0.071826  0.180519  0.252118  0.951993   \n",
       "\n",
       "             7         8         9   ...        90        91        92  \\\n",
       "0      0.881996  0.771740  0.918453  ...  0.337325  0.027868  0.731685   \n",
       "1      0.687690  0.039041  0.607538  ...  0.648092  0.857048  0.541596   \n",
       "2      0.205098  0.343155  0.996423  ...  0.941251  0.627711  0.481594   \n",
       "3      0.675046  0.610316  0.069334  ...  0.194444  0.937532  0.955805   \n",
       "4      0.368274  0.750120  0.069743  ...  0.411232  0.197739  0.012801   \n",
       "...         ...       ...       ...  ...       ...       ...       ...   \n",
       "99995  0.747966  0.367914  0.204277  ...  0.258448  0.169234  0.865453   \n",
       "99996  0.776929  0.623622  0.888449  ...  0.872222  0.558077  0.995347   \n",
       "99997  0.571239  0.257051  0.874096  ...  0.327053  0.125249  0.563284   \n",
       "99998  0.726206  0.237058  0.174387  ...  0.148056  0.636325  0.527506   \n",
       "99999  0.185138  0.152110  0.770085  ...  0.818397  0.412847  0.682871   \n",
       "\n",
       "             93        94        95        96        97        98        99  \n",
       "0      0.651146  0.018243  0.797288  0.113844  0.325229  0.207676  0.914333  \n",
       "1      0.005089  0.571168  0.381035  0.593158  0.415402  0.508927  0.874329  \n",
       "2      0.012181  0.127897  0.680059  0.581453  0.177522  0.308676  0.417417  \n",
       "3      0.195826  0.227486  0.988852  0.481580  0.051215  0.210700  0.164242  \n",
       "4      0.815844  0.010336  0.725907  0.788061  0.677759  0.076500  0.656609  \n",
       "...         ...       ...       ...       ...       ...       ...       ...  \n",
       "99995  0.765889  0.955857  0.665990  0.846364  0.553839  0.426605  0.725445  \n",
       "99996  0.061331  0.539346  0.103438  0.601383  0.694609  0.892246  0.178290  \n",
       "99997  0.101264  0.507357  0.209379  0.533454  0.090097  0.160280  0.752975  \n",
       "99998  0.029223  0.743040  0.952026  0.293487  0.175485  0.162583  0.998070  \n",
       "99999  0.826072  0.125335  0.273251  0.009200  0.147224  0.434369  0.622757  \n",
       "\n",
       "[100000 rows x 100 columns]"
      ]
     },
     "execution_count": 58,
     "metadata": {},
     "output_type": "execute_result"
    }
   ],
   "source": [
    "import pandas as pd\n",
    "nrows, ncols = 100000, 100\n",
    "df1, df2, df3, df4 = (pd.DataFrame(rng.random((nrows, ncols))) for i in range(4))\n",
    "df1"
   ]
  },
  {
   "cell_type": "code",
   "execution_count": 59,
   "metadata": {},
   "outputs": [
    {
     "name": "stdout",
     "output_type": "stream",
     "text": [
      "111 ms ± 29.2 ms per loop (mean ± std. dev. of 7 runs, 10 loops each)\n"
     ]
    }
   ],
   "source": [
    "%timeit df1 + df2 + df3 + df4"
   ]
  },
  {
   "cell_type": "code",
   "execution_count": 60,
   "metadata": {},
   "outputs": [
    {
     "name": "stdout",
     "output_type": "stream",
     "text": [
      "The slowest run took 4.59 times longer than the fastest. This could mean that an intermediate result is being cached.\n",
      "89.4 ms ± 55.4 ms per loop (mean ± std. dev. of 7 runs, 10 loops each)\n"
     ]
    }
   ],
   "source": [
    "%timeit pd.eval('df1 + df2 + df3 + df4')"
   ]
  },
  {
   "cell_type": "code",
   "execution_count": 61,
   "metadata": {},
   "outputs": [
    {
     "data": {
      "text/plain": [
       "True"
      ]
     },
     "execution_count": 61,
     "metadata": {},
     "output_type": "execute_result"
    }
   ],
   "source": [
    "np.allclose(df1 + df2 + df3 + df4, pd.eval('df1 + df2 + df3 + df4'))"
   ]
  },
  {
   "cell_type": "code",
   "execution_count": 62,
   "metadata": {},
   "outputs": [
    {
     "data": {
      "text/plain": [
       "True"
      ]
     },
     "execution_count": 62,
     "metadata": {},
     "output_type": "execute_result"
    }
   ],
   "source": [
    "np.all(df1 + df2 + df3 + df4 == pd.eval('df1 + df2 + df3 + df4'))"
   ]
  },
  {
   "cell_type": "code",
   "execution_count": 63,
   "metadata": {},
   "outputs": [
    {
     "name": "stdout",
     "output_type": "stream",
     "text": [
      "False\n",
      "True\n"
     ]
    }
   ],
   "source": [
    "import numpy as np\n",
    "\n",
    "a = np.array([0.1 + 0.2])\n",
    "b = np.array([0.3])\n",
    "\n",
    "print(np.all(a == b))         # False because 0.1+0.2 != 0.3 exactly!\n",
    "print(np.allclose(a, b))      # True because they are close enough!\n"
   ]
  },
  {
   "cell_type": "code",
   "execution_count": 64,
   "metadata": {},
   "outputs": [],
   "source": [
    "df1, df2, df3, df4, df5 = (pd.DataFrame(rng.integers(0, 1000, (100, 3)))\n",
    "for i in range(5))"
   ]
  },
  {
   "cell_type": "code",
   "execution_count": 65,
   "metadata": {},
   "outputs": [
    {
     "data": {
      "text/plain": [
       "True"
      ]
     },
     "execution_count": 65,
     "metadata": {},
     "output_type": "execute_result"
    }
   ],
   "source": [
    "result1 = -df1 * df2 / (df3 + df4) - df5\n",
    "result2 = pd.eval('-df1 * df2 / (df3 + df4) - df5')\n",
    "np.allclose(result1, result2)"
   ]
  },
  {
   "cell_type": "code",
   "execution_count": 66,
   "metadata": {},
   "outputs": [
    {
     "data": {
      "text/plain": [
       "True"
      ]
     },
     "execution_count": 66,
     "metadata": {},
     "output_type": "execute_result"
    }
   ],
   "source": [
    "result1 = (df1 < df2) & (df2 <= df3) & (df3 != df4)\n",
    "result2 = pd.eval('df1 < df2 <= df3 != df4')\n",
    "np.allclose(result1, result2)"
   ]
  },
  {
   "cell_type": "code",
   "execution_count": 67,
   "metadata": {},
   "outputs": [
    {
     "name": "stdout",
     "output_type": "stream",
     "text": [
      "      0    1    2\n",
      "0   779  446  470\n",
      "1   891  626  866\n",
      "2   189  136  216\n",
      "3   855   88   65\n",
      "4   114  920  905\n",
      "..  ...  ...  ...\n",
      "95  463   36  275\n",
      "96  442  638  304\n",
      "97  591  975  914\n",
      "98   26  788  785\n",
      "99   61  503  875\n",
      "\n",
      "[100 rows x 3 columns] \n",
      "\n",
      "       0    1    2\n",
      "0   110   53  709\n",
      "1   343  685  420\n",
      "2   876  550  713\n",
      "3   390  283  307\n",
      "4   894  367  125\n",
      "..  ...  ...  ...\n",
      "95  546  684  545\n",
      "96  667   26  991\n",
      "97  441  675  661\n",
      "98  981  704  354\n",
      "99  520  288  225\n",
      "\n",
      "[100 rows x 3 columns]\n"
     ]
    }
   ],
   "source": [
    "print(df1 ,'\\n\\n', df2)"
   ]
  },
  {
   "cell_type": "code",
   "execution_count": 68,
   "metadata": {},
   "outputs": [
    {
     "name": "stdout",
     "output_type": "stream",
     "text": [
      "      0    1    2\n",
      "0   167  837  968\n",
      "1   824  406   88\n",
      "2   546  510   90\n",
      "3    18  976  972\n",
      "4   979  925  687\n",
      "..  ...  ...  ...\n",
      "95  195  747  994\n",
      "96  390  671  834\n",
      "97  349  505  838\n",
      "98  158   21  106\n",
      "99  145   98   51\n",
      "\n",
      "[100 rows x 3 columns] \n",
      "\n",
      "       0    1    2\n",
      "0   452  910  383\n",
      "1    93  768  785\n",
      "2   970  271  268\n",
      "3   810  914  542\n",
      "4   446  121  200\n",
      "..  ...  ...  ...\n",
      "95  304  821  217\n",
      "96  132  777  565\n",
      "97  301  360  579\n",
      "98  933  809   31\n",
      "99  746  625  856\n",
      "\n",
      "[100 rows x 3 columns]\n"
     ]
    }
   ],
   "source": [
    "print(df3, '\\n\\n', df4)"
   ]
  },
  {
   "cell_type": "code",
   "execution_count": 69,
   "metadata": {},
   "outputs": [
    {
     "data": {
      "text/html": [
       "<div>\n",
       "<style scoped>\n",
       "    .dataframe tbody tr th:only-of-type {\n",
       "        vertical-align: middle;\n",
       "    }\n",
       "\n",
       "    .dataframe tbody tr th {\n",
       "        vertical-align: top;\n",
       "    }\n",
       "\n",
       "    .dataframe thead th {\n",
       "        text-align: right;\n",
       "    }\n",
       "</style>\n",
       "<table border=\"1\" class=\"dataframe\">\n",
       "  <thead>\n",
       "    <tr style=\"text-align: right;\">\n",
       "      <th></th>\n",
       "      <th>0</th>\n",
       "      <th>1</th>\n",
       "      <th>2</th>\n",
       "    </tr>\n",
       "  </thead>\n",
       "  <tbody>\n",
       "    <tr>\n",
       "      <th>0</th>\n",
       "      <td>False</td>\n",
       "      <td>False</td>\n",
       "      <td>True</td>\n",
       "    </tr>\n",
       "    <tr>\n",
       "      <th>1</th>\n",
       "      <td>False</td>\n",
       "      <td>False</td>\n",
       "      <td>False</td>\n",
       "    </tr>\n",
       "    <tr>\n",
       "      <th>2</th>\n",
       "      <td>False</td>\n",
       "      <td>False</td>\n",
       "      <td>False</td>\n",
       "    </tr>\n",
       "    <tr>\n",
       "      <th>3</th>\n",
       "      <td>False</td>\n",
       "      <td>True</td>\n",
       "      <td>True</td>\n",
       "    </tr>\n",
       "    <tr>\n",
       "      <th>4</th>\n",
       "      <td>True</td>\n",
       "      <td>False</td>\n",
       "      <td>False</td>\n",
       "    </tr>\n",
       "    <tr>\n",
       "      <th>...</th>\n",
       "      <td>...</td>\n",
       "      <td>...</td>\n",
       "      <td>...</td>\n",
       "    </tr>\n",
       "    <tr>\n",
       "      <th>95</th>\n",
       "      <td>False</td>\n",
       "      <td>True</td>\n",
       "      <td>True</td>\n",
       "    </tr>\n",
       "    <tr>\n",
       "      <th>96</th>\n",
       "      <td>False</td>\n",
       "      <td>False</td>\n",
       "      <td>False</td>\n",
       "    </tr>\n",
       "    <tr>\n",
       "      <th>97</th>\n",
       "      <td>False</td>\n",
       "      <td>False</td>\n",
       "      <td>False</td>\n",
       "    </tr>\n",
       "    <tr>\n",
       "      <th>98</th>\n",
       "      <td>False</td>\n",
       "      <td>False</td>\n",
       "      <td>False</td>\n",
       "    </tr>\n",
       "    <tr>\n",
       "      <th>99</th>\n",
       "      <td>False</td>\n",
       "      <td>False</td>\n",
       "      <td>False</td>\n",
       "    </tr>\n",
       "  </tbody>\n",
       "</table>\n",
       "<p>100 rows × 3 columns</p>\n",
       "</div>"
      ],
      "text/plain": [
       "        0      1      2\n",
       "0   False  False   True\n",
       "1   False  False  False\n",
       "2   False  False  False\n",
       "3   False   True   True\n",
       "4    True  False  False\n",
       "..    ...    ...    ...\n",
       "95  False   True   True\n",
       "96  False  False  False\n",
       "97  False  False  False\n",
       "98  False  False  False\n",
       "99  False  False  False\n",
       "\n",
       "[100 rows x 3 columns]"
      ]
     },
     "execution_count": 69,
     "metadata": {},
     "output_type": "execute_result"
    }
   ],
   "source": [
    "result1"
   ]
  },
  {
   "cell_type": "code",
   "execution_count": 70,
   "metadata": {},
   "outputs": [
    {
     "data": {
      "text/plain": [
       "True"
      ]
     },
     "execution_count": 70,
     "metadata": {},
     "output_type": "execute_result"
    }
   ],
   "source": [
    "result1 = (df1 < 0.5) & (df2 < 0.5) | (df3 < df4)\n",
    "result2 = pd.eval('(df1 < 0.5) & (df2 < 0.5) | (df3 < df4)')\n",
    "np.allclose(result1, result2)"
   ]
  },
  {
   "cell_type": "code",
   "execution_count": 72,
   "metadata": {},
   "outputs": [
    {
     "data": {
      "text/html": [
       "<div>\n",
       "<style scoped>\n",
       "    .dataframe tbody tr th:only-of-type {\n",
       "        vertical-align: middle;\n",
       "    }\n",
       "\n",
       "    .dataframe tbody tr th {\n",
       "        vertical-align: top;\n",
       "    }\n",
       "\n",
       "    .dataframe thead th {\n",
       "        text-align: right;\n",
       "    }\n",
       "</style>\n",
       "<table border=\"1\" class=\"dataframe\">\n",
       "  <thead>\n",
       "    <tr style=\"text-align: right;\">\n",
       "      <th></th>\n",
       "      <th>0</th>\n",
       "      <th>1</th>\n",
       "      <th>2</th>\n",
       "    </tr>\n",
       "  </thead>\n",
       "  <tbody>\n",
       "    <tr>\n",
       "      <th>0</th>\n",
       "      <td>True</td>\n",
       "      <td>True</td>\n",
       "      <td>False</td>\n",
       "    </tr>\n",
       "    <tr>\n",
       "      <th>1</th>\n",
       "      <td>False</td>\n",
       "      <td>True</td>\n",
       "      <td>True</td>\n",
       "    </tr>\n",
       "    <tr>\n",
       "      <th>2</th>\n",
       "      <td>True</td>\n",
       "      <td>False</td>\n",
       "      <td>True</td>\n",
       "    </tr>\n",
       "    <tr>\n",
       "      <th>3</th>\n",
       "      <td>True</td>\n",
       "      <td>False</td>\n",
       "      <td>False</td>\n",
       "    </tr>\n",
       "    <tr>\n",
       "      <th>4</th>\n",
       "      <td>False</td>\n",
       "      <td>False</td>\n",
       "      <td>False</td>\n",
       "    </tr>\n",
       "    <tr>\n",
       "      <th>...</th>\n",
       "      <td>...</td>\n",
       "      <td>...</td>\n",
       "      <td>...</td>\n",
       "    </tr>\n",
       "    <tr>\n",
       "      <th>95</th>\n",
       "      <td>True</td>\n",
       "      <td>True</td>\n",
       "      <td>False</td>\n",
       "    </tr>\n",
       "    <tr>\n",
       "      <th>96</th>\n",
       "      <td>False</td>\n",
       "      <td>True</td>\n",
       "      <td>False</td>\n",
       "    </tr>\n",
       "    <tr>\n",
       "      <th>97</th>\n",
       "      <td>False</td>\n",
       "      <td>False</td>\n",
       "      <td>False</td>\n",
       "    </tr>\n",
       "    <tr>\n",
       "      <th>98</th>\n",
       "      <td>True</td>\n",
       "      <td>True</td>\n",
       "      <td>False</td>\n",
       "    </tr>\n",
       "    <tr>\n",
       "      <th>99</th>\n",
       "      <td>True</td>\n",
       "      <td>True</td>\n",
       "      <td>True</td>\n",
       "    </tr>\n",
       "  </tbody>\n",
       "</table>\n",
       "<p>100 rows × 3 columns</p>\n",
       "</div>"
      ],
      "text/plain": [
       "        0      1      2\n",
       "0    True   True  False\n",
       "1   False   True   True\n",
       "2    True  False   True\n",
       "3    True  False  False\n",
       "4   False  False  False\n",
       "..    ...    ...    ...\n",
       "95   True   True  False\n",
       "96  False   True  False\n",
       "97  False  False  False\n",
       "98   True   True  False\n",
       "99   True   True   True\n",
       "\n",
       "[100 rows x 3 columns]"
      ]
     },
     "execution_count": 72,
     "metadata": {},
     "output_type": "execute_result"
    }
   ],
   "source": [
    "result1"
   ]
  },
  {
   "cell_type": "code",
   "execution_count": 73,
   "metadata": {},
   "outputs": [
    {
     "data": {
      "text/plain": [
       "True"
      ]
     },
     "execution_count": 73,
     "metadata": {},
     "output_type": "execute_result"
    }
   ],
   "source": [
    "result3 = pd.eval('(df1 < 0.5) and (df2 < 0.5) or (df3 < df4)')\n",
    "np.allclose(result1, result3)"
   ]
  },
  {
   "cell_type": "code",
   "execution_count": 91,
   "metadata": {},
   "outputs": [
    {
     "data": {
      "text/html": [
       "<div>\n",
       "<style scoped>\n",
       "    .dataframe tbody tr th:only-of-type {\n",
       "        vertical-align: middle;\n",
       "    }\n",
       "\n",
       "    .dataframe tbody tr th {\n",
       "        vertical-align: top;\n",
       "    }\n",
       "\n",
       "    .dataframe thead th {\n",
       "        text-align: right;\n",
       "    }\n",
       "</style>\n",
       "<table border=\"1\" class=\"dataframe\">\n",
       "  <thead>\n",
       "    <tr style=\"text-align: right;\">\n",
       "      <th></th>\n",
       "      <th>A</th>\n",
       "      <th>B</th>\n",
       "      <th>C</th>\n",
       "    </tr>\n",
       "  </thead>\n",
       "  <tbody>\n",
       "    <tr>\n",
       "      <th>0</th>\n",
       "      <td>0.674118</td>\n",
       "      <td>0.062189</td>\n",
       "      <td>0.787252</td>\n",
       "    </tr>\n",
       "    <tr>\n",
       "      <th>1</th>\n",
       "      <td>0.734140</td>\n",
       "      <td>0.173477</td>\n",
       "      <td>0.310231</td>\n",
       "    </tr>\n",
       "    <tr>\n",
       "      <th>2</th>\n",
       "      <td>0.431117</td>\n",
       "      <td>0.327260</td>\n",
       "      <td>0.481619</td>\n",
       "    </tr>\n",
       "    <tr>\n",
       "      <th>3</th>\n",
       "      <td>0.994307</td>\n",
       "      <td>0.528563</td>\n",
       "      <td>0.388215</td>\n",
       "    </tr>\n",
       "    <tr>\n",
       "      <th>4</th>\n",
       "      <td>0.878129</td>\n",
       "      <td>0.963458</td>\n",
       "      <td>0.639574</td>\n",
       "    </tr>\n",
       "  </tbody>\n",
       "</table>\n",
       "</div>"
      ],
      "text/plain": [
       "          A         B         C\n",
       "0  0.674118  0.062189  0.787252\n",
       "1  0.734140  0.173477  0.310231\n",
       "2  0.431117  0.327260  0.481619\n",
       "3  0.994307  0.528563  0.388215\n",
       "4  0.878129  0.963458  0.639574"
      ]
     },
     "execution_count": 91,
     "metadata": {},
     "output_type": "execute_result"
    }
   ],
   "source": [
    "df = pd.DataFrame(rng.random((1000, 3)), columns=['A', 'B', 'C'])\n",
    "df.head()"
   ]
  },
  {
   "cell_type": "code",
   "execution_count": 92,
   "metadata": {},
   "outputs": [
    {
     "data": {
      "text/plain": [
       "True"
      ]
     },
     "execution_count": 92,
     "metadata": {},
     "output_type": "execute_result"
    }
   ],
   "source": [
    "result1 = (df['A'] + df['B']) / (df['C'] - 1)\n",
    "result2 = pd.eval(\"(df.A + df.B) / (df.C - 1)\")\n",
    "np.allclose(result1, result2)"
   ]
  },
  {
   "cell_type": "code",
   "execution_count": 95,
   "metadata": {},
   "outputs": [
    {
     "data": {
      "text/plain": [
       "pandas.core.series.Series"
      ]
     },
     "execution_count": 95,
     "metadata": {},
     "output_type": "execute_result"
    }
   ],
   "source": [
    "type(result1)   #pandas.core.series.Series"
   ]
  },
  {
   "cell_type": "code",
   "execution_count": 96,
   "metadata": {},
   "outputs": [
    {
     "data": {
      "text/plain": [
       "True"
      ]
     },
     "execution_count": 96,
     "metadata": {},
     "output_type": "execute_result"
    }
   ],
   "source": [
    "result3 = df.eval('(A + B) / (C - 1)')\n",
    "np.allclose(result1, result3)"
   ]
  },
  {
   "cell_type": "code",
   "execution_count": 97,
   "metadata": {},
   "outputs": [
    {
     "data": {
      "text/plain": [
       "0     -3.460942\n",
       "1     -1.315826\n",
       "2     -1.462972\n",
       "3     -2.489225\n",
       "4     -5.109470\n",
       "         ...   \n",
       "995   -0.728613\n",
       "996   -1.942860\n",
       "997   -1.273018\n",
       "998   -1.934016\n",
       "999   -2.549037\n",
       "Length: 1000, dtype: float64"
      ]
     },
     "execution_count": 97,
     "metadata": {},
     "output_type": "execute_result"
    }
   ],
   "source": [
    "result3"
   ]
  },
  {
   "cell_type": "code",
   "execution_count": 98,
   "metadata": {},
   "outputs": [
    {
     "data": {
      "text/html": [
       "<div>\n",
       "<style scoped>\n",
       "    .dataframe tbody tr th:only-of-type {\n",
       "        vertical-align: middle;\n",
       "    }\n",
       "\n",
       "    .dataframe tbody tr th {\n",
       "        vertical-align: top;\n",
       "    }\n",
       "\n",
       "    .dataframe thead th {\n",
       "        text-align: right;\n",
       "    }\n",
       "</style>\n",
       "<table border=\"1\" class=\"dataframe\">\n",
       "  <thead>\n",
       "    <tr style=\"text-align: right;\">\n",
       "      <th></th>\n",
       "      <th>A</th>\n",
       "      <th>B</th>\n",
       "      <th>C</th>\n",
       "    </tr>\n",
       "  </thead>\n",
       "  <tbody>\n",
       "    <tr>\n",
       "      <th>0</th>\n",
       "      <td>0.674118</td>\n",
       "      <td>0.062189</td>\n",
       "      <td>0.787252</td>\n",
       "    </tr>\n",
       "    <tr>\n",
       "      <th>1</th>\n",
       "      <td>0.734140</td>\n",
       "      <td>0.173477</td>\n",
       "      <td>0.310231</td>\n",
       "    </tr>\n",
       "    <tr>\n",
       "      <th>2</th>\n",
       "      <td>0.431117</td>\n",
       "      <td>0.327260</td>\n",
       "      <td>0.481619</td>\n",
       "    </tr>\n",
       "    <tr>\n",
       "      <th>3</th>\n",
       "      <td>0.994307</td>\n",
       "      <td>0.528563</td>\n",
       "      <td>0.388215</td>\n",
       "    </tr>\n",
       "    <tr>\n",
       "      <th>4</th>\n",
       "      <td>0.878129</td>\n",
       "      <td>0.963458</td>\n",
       "      <td>0.639574</td>\n",
       "    </tr>\n",
       "  </tbody>\n",
       "</table>\n",
       "</div>"
      ],
      "text/plain": [
       "          A         B         C\n",
       "0  0.674118  0.062189  0.787252\n",
       "1  0.734140  0.173477  0.310231\n",
       "2  0.431117  0.327260  0.481619\n",
       "3  0.994307  0.528563  0.388215\n",
       "4  0.878129  0.963458  0.639574"
      ]
     },
     "execution_count": 98,
     "metadata": {},
     "output_type": "execute_result"
    }
   ],
   "source": [
    "df.head()"
   ]
  },
  {
   "cell_type": "markdown",
   "metadata": {},
   "source": [
    "## <b>Local variables in DataFrame.eval</b>"
   ]
  },
  {
   "cell_type": "code",
   "execution_count": 99,
   "metadata": {},
   "outputs": [
    {
     "data": {
      "text/plain": [
       "(1000, 3)"
      ]
     },
     "execution_count": 99,
     "metadata": {},
     "output_type": "execute_result"
    }
   ],
   "source": [
    "df.shape"
   ]
  },
  {
   "cell_type": "code",
   "execution_count": 100,
   "metadata": {},
   "outputs": [
    {
     "data": {
      "text/plain": [
       "True"
      ]
     },
     "execution_count": 100,
     "metadata": {},
     "output_type": "execute_result"
    }
   ],
   "source": [
    "column_mean = df.mean(1)\n",
    "result1 = df['A'] + column_mean\n",
    "result2 = df.eval('A + @column_mean')\n",
    "np.allclose(result1, result2)"
   ]
  },
  {
   "cell_type": "code",
   "execution_count": 105,
   "metadata": {},
   "outputs": [
    {
     "data": {
      "text/plain": [
       "pandas.core.series.Series"
      ]
     },
     "execution_count": 105,
     "metadata": {},
     "output_type": "execute_result"
    }
   ],
   "source": [
    "type(result1)"
   ]
  },
  {
   "cell_type": "code",
   "execution_count": 106,
   "metadata": {},
   "outputs": [
    {
     "data": {
      "text/plain": [
       "0      0.674118\n",
       "1      0.734140\n",
       "2      0.431117\n",
       "3      0.994307\n",
       "4      0.878129\n",
       "         ...   \n",
       "995    0.004401\n",
       "996    0.779812\n",
       "997    0.729935\n",
       "998    0.815992\n",
       "999    0.773512\n",
       "Name: A, Length: 1000, dtype: float64"
      ]
     },
     "execution_count": 106,
     "metadata": {},
     "output_type": "execute_result"
    }
   ],
   "source": [
    "df['A']"
   ]
  },
  {
   "cell_type": "code",
   "execution_count": 107,
   "metadata": {},
   "outputs": [
    {
     "data": {
      "text/plain": [
       "0      0.674118\n",
       "1      0.734140\n",
       "2      0.431117\n",
       "3      0.994307\n",
       "4      0.878129\n",
       "         ...   \n",
       "995    0.004401\n",
       "996    0.779812\n",
       "997    0.729935\n",
       "998    0.815992\n",
       "999    0.773512\n",
       "Name: A, Length: 1000, dtype: float64"
      ]
     },
     "execution_count": 107,
     "metadata": {},
     "output_type": "execute_result"
    }
   ],
   "source": [
    "df.A"
   ]
  },
  {
   "cell_type": "code",
   "execution_count": 108,
   "metadata": {},
   "outputs": [
    {
     "data": {
      "text/html": [
       "<div>\n",
       "<style scoped>\n",
       "    .dataframe tbody tr th:only-of-type {\n",
       "        vertical-align: middle;\n",
       "    }\n",
       "\n",
       "    .dataframe tbody tr th {\n",
       "        vertical-align: top;\n",
       "    }\n",
       "\n",
       "    .dataframe thead th {\n",
       "        text-align: right;\n",
       "    }\n",
       "</style>\n",
       "<table border=\"1\" class=\"dataframe\">\n",
       "  <thead>\n",
       "    <tr style=\"text-align: right;\">\n",
       "      <th></th>\n",
       "      <th>A</th>\n",
       "      <th>B</th>\n",
       "      <th>C</th>\n",
       "    </tr>\n",
       "  </thead>\n",
       "  <tbody>\n",
       "    <tr>\n",
       "      <th>2</th>\n",
       "      <td>0.431117</td>\n",
       "      <td>0.327260</td>\n",
       "      <td>0.481619</td>\n",
       "    </tr>\n",
       "    <tr>\n",
       "      <th>5</th>\n",
       "      <td>0.448055</td>\n",
       "      <td>0.586663</td>\n",
       "      <td>0.332335</td>\n",
       "    </tr>\n",
       "    <tr>\n",
       "      <th>9</th>\n",
       "      <td>0.498257</td>\n",
       "      <td>0.256380</td>\n",
       "      <td>0.857488</td>\n",
       "    </tr>\n",
       "    <tr>\n",
       "      <th>10</th>\n",
       "      <td>0.446259</td>\n",
       "      <td>0.668615</td>\n",
       "      <td>0.989573</td>\n",
       "    </tr>\n",
       "    <tr>\n",
       "      <th>11</th>\n",
       "      <td>0.286742</td>\n",
       "      <td>0.064709</td>\n",
       "      <td>0.769330</td>\n",
       "    </tr>\n",
       "    <tr>\n",
       "      <th>...</th>\n",
       "      <td>...</td>\n",
       "      <td>...</td>\n",
       "      <td>...</td>\n",
       "    </tr>\n",
       "    <tr>\n",
       "      <th>990</th>\n",
       "      <td>0.224539</td>\n",
       "      <td>0.084635</td>\n",
       "      <td>0.004360</td>\n",
       "    </tr>\n",
       "    <tr>\n",
       "      <th>991</th>\n",
       "      <td>0.034647</td>\n",
       "      <td>0.897595</td>\n",
       "      <td>0.481074</td>\n",
       "    </tr>\n",
       "    <tr>\n",
       "      <th>992</th>\n",
       "      <td>0.486439</td>\n",
       "      <td>0.629186</td>\n",
       "      <td>0.471220</td>\n",
       "    </tr>\n",
       "    <tr>\n",
       "      <th>993</th>\n",
       "      <td>0.100243</td>\n",
       "      <td>0.447944</td>\n",
       "      <td>0.743824</td>\n",
       "    </tr>\n",
       "    <tr>\n",
       "      <th>995</th>\n",
       "      <td>0.004401</td>\n",
       "      <td>0.648868</td>\n",
       "      <td>0.103408</td>\n",
       "    </tr>\n",
       "  </tbody>\n",
       "</table>\n",
       "<p>509 rows × 3 columns</p>\n",
       "</div>"
      ],
      "text/plain": [
       "            A         B         C\n",
       "2    0.431117  0.327260  0.481619\n",
       "5    0.448055  0.586663  0.332335\n",
       "9    0.498257  0.256380  0.857488\n",
       "10   0.446259  0.668615  0.989573\n",
       "11   0.286742  0.064709  0.769330\n",
       "..        ...       ...       ...\n",
       "990  0.224539  0.084635  0.004360\n",
       "991  0.034647  0.897595  0.481074\n",
       "992  0.486439  0.629186  0.471220\n",
       "993  0.100243  0.447944  0.743824\n",
       "995  0.004401  0.648868  0.103408\n",
       "\n",
       "[509 rows x 3 columns]"
      ]
     },
     "execution_count": 108,
     "metadata": {},
     "output_type": "execute_result"
    }
   ],
   "source": [
    "df[df['A']<0.5]"
   ]
  },
  {
   "cell_type": "code",
   "execution_count": 101,
   "metadata": {},
   "outputs": [
    {
     "data": {
      "text/plain": [
       "(1000,)"
      ]
     },
     "execution_count": 101,
     "metadata": {},
     "output_type": "execute_result"
    }
   ],
   "source": [
    "df['A'].shape"
   ]
  },
  {
   "cell_type": "code",
   "execution_count": 102,
   "metadata": {},
   "outputs": [
    {
     "data": {
      "text/plain": [
       "dtype('float64')"
      ]
     },
     "execution_count": 102,
     "metadata": {},
     "output_type": "execute_result"
    }
   ],
   "source": [
    "df['A'].dtype"
   ]
  },
  {
   "cell_type": "code",
   "execution_count": 103,
   "metadata": {},
   "outputs": [
    {
     "data": {
      "text/plain": [
       "pandas.core.series.Series"
      ]
     },
     "execution_count": 103,
     "metadata": {},
     "output_type": "execute_result"
    }
   ],
   "source": [
    "type(df['A'])"
   ]
  },
  {
   "cell_type": "code",
   "execution_count": 109,
   "metadata": {},
   "outputs": [
    {
     "data": {
      "text/plain": [
       "True"
      ]
     },
     "execution_count": 109,
     "metadata": {},
     "output_type": "execute_result"
    }
   ],
   "source": [
    "result1 = df[(df.A < 0.5) & (df.B < 0.5)]\n",
    "result2 = pd.eval('df[(df.A < 0.5) & (df.B < 0.5)]')\n",
    "np.allclose(result1, result2)"
   ]
  },
  {
   "cell_type": "code",
   "execution_count": 110,
   "metadata": {},
   "outputs": [
    {
     "data": {
      "text/plain": [
       "True"
      ]
     },
     "execution_count": 110,
     "metadata": {},
     "output_type": "execute_result"
    }
   ],
   "source": [
    "Cmean = df['C'].mean()\n",
    "result1 = df[(df.A < Cmean) & (df.B < Cmean)]\n",
    "result2 = df.query('A < @Cmean and B < @Cmean')\n",
    "np.allclose(result1, result2)"
   ]
  },
  {
   "cell_type": "code",
   "execution_count": 111,
   "metadata": {},
   "outputs": [
    {
     "data": {
      "text/plain": [
       "0.49715648015408964"
      ]
     },
     "execution_count": 111,
     "metadata": {},
     "output_type": "execute_result"
    }
   ],
   "source": [
    "Cmean"
   ]
  },
  {
   "cell_type": "code",
   "execution_count": null,
   "metadata": {},
   "outputs": [],
   "source": []
  }
 ],
 "metadata": {
  "kernelspec": {
   "display_name": ".venv",
   "language": "python",
   "name": "python3"
  },
  "language_info": {
   "codemirror_mode": {
    "name": "ipython",
    "version": 3
   },
   "file_extension": ".py",
   "mimetype": "text/x-python",
   "name": "python",
   "nbconvert_exporter": "python",
   "pygments_lexer": "ipython3",
   "version": "3.12.8"
  }
 },
 "nbformat": 4,
 "nbformat_minor": 2
}
